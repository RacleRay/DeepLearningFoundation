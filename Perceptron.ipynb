{
 "cells": [
  {
   "cell_type": "code",
   "execution_count": 3,
   "metadata": {
    "ExecuteTime": {
     "end_time": "2019-07-07T14:41:29.861221Z",
     "start_time": "2019-07-07T14:41:29.857232Z"
    }
   },
   "outputs": [],
   "source": [
    "from functools import reduce\n",
    "import numpy as np"
   ]
  },
  {
   "cell_type": "code",
   "execution_count": 4,
   "metadata": {
    "ExecuteTime": {
     "end_time": "2019-07-07T14:41:30.877833Z",
     "start_time": "2019-07-07T14:41:30.873844Z"
    }
   },
   "outputs": [],
   "source": [
    "def add(x,y):\n",
    "    return  x + y"
   ]
  },
  {
   "cell_type": "code",
   "execution_count": 57,
   "metadata": {
    "ExecuteTime": {
     "end_time": "2019-07-07T15:45:48.158066Z",
     "start_time": "2019-07-07T15:45:48.151084Z"
    }
   },
   "outputs": [],
   "source": [
    "class Perceptron(object):\n",
    "    def __init__(self, inputs, inputs_dim, labels, activator):\n",
    "        \n",
    "        self.inputs = np.array(inputs)\n",
    "        # 权重向量初始化为 0\n",
    "        self.weights = np.zeros(inputs_dim)\n",
    "        # 偏置项初始化为 0\n",
    "        self.bias = 0.0\n",
    "        # 实际标签\n",
    "        self.labels = np.array(labels)\n",
    "        # 设置的激活函数\n",
    "        self.activator = activator\n",
    "        \n",
    "    def train(self, iteration, lr):\n",
    "        for i in range(iteration):\n",
    "            self._one_iteration(lr)\n",
    "            \n",
    "    def _one_iteration(self, lr):\n",
    "        samples = zip(self.inputs, labels)\n",
    "        for (inputs, label) in samples:\n",
    "            predict = self.predict(inputs)\n",
    "            self._update_weights(inputs, predict, label, lr)\n",
    "\n",
    "    def _update_weights(self, inputs, predict, label, lr):\n",
    "        # 感知机参数更新规则\n",
    "        # 注意是同一组权重，在不同样本上更新\n",
    "        delta = label - predict\n",
    "\n",
    "        self.weights = self.weights + inputs * delta * lr\n",
    "        self.bias = self.bias + delta * lr\n",
    "        \n",
    "    def predict(self, inputs):\n",
    "        return self.activator(np.sum(inputs * self.weights) + self.bias)\n",
    "        \n",
    "def activator(x):\n",
    "    if x > 0:\n",
    "        return 1\n",
    "    else:\n",
    "        return 0"
   ]
  },
  {
   "cell_type": "code",
   "execution_count": 58,
   "metadata": {
    "ExecuteTime": {
     "end_time": "2019-07-07T15:45:48.587377Z",
     "start_time": "2019-07-07T15:45:48.582386Z"
    }
   },
   "outputs": [],
   "source": [
    "input_vecs = [[1,1],[0,0],[1,0],[0,1]]\n",
    "labels = [1,0,0,0]\n",
    "\n",
    "p = Perceptron(inputs=input_vecs, inputs_dim=2, activator=activator, labels=labels)\n",
    "\n",
    "p.train(20, 0.1)"
   ]
  },
  {
   "cell_type": "code",
   "execution_count": 59,
   "metadata": {
    "ExecuteTime": {
     "end_time": "2019-07-07T15:45:48.988975Z",
     "start_time": "2019-07-07T15:45:48.983040Z"
    }
   },
   "outputs": [
    {
     "name": "stdout",
     "output_type": "stream",
     "text": [
      "1 and 1 = 1\n",
      "0 and 0 = 0\n",
      "1 and 0 = 0\n",
      "0 and 1 = 0\n"
     ]
    }
   ],
   "source": [
    "print('1 and 1 = %d' % p.predict([1, 1]))\n",
    "print('0 and 0 = %d' % p.predict([0, 0]))\n",
    "print('1 and 0 = %d' % p.predict([1, 0]))\n",
    "print('0 and 1 = %d' % p.predict([0, 1]))"
   ]
  },
  {
   "cell_type": "code",
   "execution_count": null,
   "metadata": {},
   "outputs": [],
   "source": []
  }
 ],
 "metadata": {
  "kernelspec": {
   "display_name": "Python 3",
   "language": "python",
   "name": "python3"
  },
  "language_info": {
   "codemirror_mode": {
    "name": "ipython",
    "version": 3
   },
   "file_extension": ".py",
   "mimetype": "text/x-python",
   "name": "python",
   "nbconvert_exporter": "python",
   "pygments_lexer": "ipython3",
   "version": "3.6.5"
  },
  "toc": {
   "base_numbering": 1,
   "nav_menu": {},
   "number_sections": true,
   "sideBar": true,
   "skip_h1_title": false,
   "title_cell": "Table of Contents",
   "title_sidebar": "Contents",
   "toc_cell": false,
   "toc_position": {},
   "toc_section_display": true,
   "toc_window_display": false
  },
  "varInspector": {
   "cols": {
    "lenName": 16,
    "lenType": 16,
    "lenVar": 40
   },
   "kernels_config": {
    "python": {
     "delete_cmd_postfix": "",
     "delete_cmd_prefix": "del ",
     "library": "var_list.py",
     "varRefreshCmd": "print(var_dic_list())"
    },
    "r": {
     "delete_cmd_postfix": ") ",
     "delete_cmd_prefix": "rm(",
     "library": "var_list.r",
     "varRefreshCmd": "cat(var_dic_list()) "
    }
   },
   "types_to_exclude": [
    "module",
    "function",
    "builtin_function_or_method",
    "instance",
    "_Feature"
   ],
   "window_display": false
  }
 },
 "nbformat": 4,
 "nbformat_minor": 2
}
