{
 "cells": [
  {
   "cell_type": "markdown",
   "metadata": {},
   "source": [
    "# 100 numpy exercises\n",
    "\n",
    "This is a collection of exercises that have been collected in the numpy mailing list, on stack overflow\n",
    "and in the numpy documentation. The goal of this collection is to offer a quick reference for both old\n",
    "and new users but also to provide a set of exercises for those who teach.\n",
    "\n",
    "\n",
    "If you find an error or think you've a better way to solve some of them, feel\n",
    "free to open an issue at <https://github.com/rougier/numpy-100>."
   ]
  },
  {
   "cell_type": "markdown",
   "metadata": {},
   "source": [
    "File automatically generated. See the documentation to update questions/answers/hints programmatically."
   ]
  },
  {
   "cell_type": "markdown",
   "metadata": {},
   "source": [
    "Run the `initialize.py` module, then for each question you can query the\n",
    "answer or an hint with `hint(n)` or `answer(n)` for `n` question number."
   ]
  },
  {
   "cell_type": "code",
   "execution_count": 4,
   "metadata": {},
   "outputs": [],
   "source": [
    "%run initialise.py"
   ]
  },
  {
   "cell_type": "markdown",
   "metadata": {},
   "source": [
    "#### 1. Import the numpy package under the name `np` (★☆☆)"
   ]
  },
  {
   "cell_type": "code",
   "execution_count": 5,
   "metadata": {},
   "outputs": [],
   "source": [
    "import numpy as np"
   ]
  },
  {
   "cell_type": "markdown",
   "metadata": {},
   "source": [
    "#### 2. Print the numpy version and the configuration (★☆☆)"
   ]
  },
  {
   "cell_type": "code",
   "execution_count": 6,
   "metadata": {},
   "outputs": [
    {
     "name": "stdout",
     "output_type": "stream",
     "text": [
      "1.18.1\n",
      "blas_mkl_info:\n",
      "  NOT AVAILABLE\n",
      "blis_info:\n",
      "  NOT AVAILABLE\n",
      "openblas_info:\n",
      "    library_dirs = ['C:\\\\projects\\\\numpy-wheels\\\\numpy\\\\build\\\\openblas_info']\n",
      "    libraries = ['openblas_info']\n",
      "    language = f77\n",
      "    define_macros = [('HAVE_CBLAS', None)]\n",
      "blas_opt_info:\n",
      "    library_dirs = ['C:\\\\projects\\\\numpy-wheels\\\\numpy\\\\build\\\\openblas_info']\n",
      "    libraries = ['openblas_info']\n",
      "    language = f77\n",
      "    define_macros = [('HAVE_CBLAS', None)]\n",
      "lapack_mkl_info:\n",
      "  NOT AVAILABLE\n",
      "openblas_lapack_info:\n",
      "    library_dirs = ['C:\\\\projects\\\\numpy-wheels\\\\numpy\\\\build\\\\openblas_lapack_info']\n",
      "    libraries = ['openblas_lapack_info']\n",
      "    language = f77\n",
      "    define_macros = [('HAVE_CBLAS', None)]\n",
      "lapack_opt_info:\n",
      "    library_dirs = ['C:\\\\projects\\\\numpy-wheels\\\\numpy\\\\build\\\\openblas_lapack_info']\n",
      "    libraries = ['openblas_lapack_info']\n",
      "    language = f77\n",
      "    define_macros = [('HAVE_CBLAS', None)]\n"
     ]
    }
   ],
   "source": [
    "print(np.__version__)\n",
    "np.show_config()"
   ]
  },
  {
   "cell_type": "markdown",
   "metadata": {},
   "source": [
    "#### 3. Create a null vector of size 10 (★☆☆)"
   ]
  },
  {
   "cell_type": "code",
   "execution_count": 4,
   "metadata": {},
   "outputs": [
    {
     "data": {
      "text/plain": [
       "array([0., 0., 0., 0., 0., 0., 0., 0., 0., 0.])"
      ]
     },
     "execution_count": 4,
     "metadata": {},
     "output_type": "execute_result"
    }
   ],
   "source": [
    "np.zeros(10)"
   ]
  },
  {
   "cell_type": "markdown",
   "metadata": {},
   "source": [
    "#### 4. How to find the memory size of any array (★☆☆)"
   ]
  },
  {
   "cell_type": "code",
   "execution_count": 5,
   "metadata": {},
   "outputs": [
    {
     "name": "stdout",
     "output_type": "stream",
     "text": [
      "16\n"
     ]
    }
   ],
   "source": [
    "arr = np.random.randn(1, 2)\n",
    "print(arr.size * arr.itemsize)"
   ]
  },
  {
   "cell_type": "markdown",
   "metadata": {},
   "source": [
    "#### 5. How to get the documentation of the numpy add function from the command line? (★☆☆)"
   ]
  },
  {
   "cell_type": "code",
   "execution_count": 6,
   "metadata": {},
   "outputs": [],
   "source": [
    "# ! python -c \"import numpy as np; np.info(np.matmul)\""
   ]
  },
  {
   "cell_type": "markdown",
   "metadata": {},
   "source": [
    "#### 6. Create a null vector of size 10 but the fifth value which is 1 (★☆☆)"
   ]
  },
  {
   "cell_type": "code",
   "execution_count": 7,
   "metadata": {},
   "outputs": [],
   "source": [
    "arr = np.zeros(10)\n",
    "arr[4] = 1"
   ]
  },
  {
   "cell_type": "markdown",
   "metadata": {},
   "source": [
    "#### 7. Create a vector with values ranging from 10 to 49 (★☆☆)"
   ]
  },
  {
   "cell_type": "code",
   "execution_count": 8,
   "metadata": {},
   "outputs": [
    {
     "data": {
      "text/plain": [
       "array([10, 11, 12, 13, 14, 15, 16, 17, 18, 19, 20, 21, 22, 23, 24, 25, 26,\n",
       "       27, 28, 29, 30, 31, 32, 33, 34, 35, 36, 37, 38, 39, 40, 41, 42, 43,\n",
       "       44, 45, 46, 47, 48, 49])"
      ]
     },
     "execution_count": 8,
     "metadata": {},
     "output_type": "execute_result"
    }
   ],
   "source": [
    "np.arange(10, 50)"
   ]
  },
  {
   "cell_type": "markdown",
   "metadata": {},
   "source": [
    "#### 8. Reverse a vector (first element becomes last) (★☆☆)"
   ]
  },
  {
   "cell_type": "code",
   "execution_count": 9,
   "metadata": {},
   "outputs": [
    {
     "data": {
      "text/plain": [
       "array([49, 48, 47, 46, 45, 44, 43, 42, 41, 40, 39, 38, 37, 36, 35, 34, 33,\n",
       "       32, 31, 30, 29, 28, 27, 26, 25, 24, 23, 22, 21, 20, 19, 18, 17, 16,\n",
       "       15, 14, 13, 12, 11, 10,  9,  8,  7,  6,  5,  4,  3,  2,  1,  0])"
      ]
     },
     "execution_count": 9,
     "metadata": {},
     "output_type": "execute_result"
    }
   ],
   "source": [
    "np.arange(50)[::-1]"
   ]
  },
  {
   "cell_type": "markdown",
   "metadata": {},
   "source": [
    "#### 9. Create a 3x3 matrix with values ranging from 0 to 8 (★☆☆)"
   ]
  },
  {
   "cell_type": "code",
   "execution_count": 10,
   "metadata": {},
   "outputs": [
    {
     "data": {
      "text/plain": [
       "array([[0, 1, 2],\n",
       "       [3, 4, 5],\n",
       "       [6, 7, 8]])"
      ]
     },
     "execution_count": 10,
     "metadata": {},
     "output_type": "execute_result"
    }
   ],
   "source": [
    "np.arange(9).reshape(3, 3)"
   ]
  },
  {
   "cell_type": "markdown",
   "metadata": {},
   "source": [
    "#### 10. Find indices of non-zero elements from [1,2,0,0,4,0] (★☆☆)"
   ]
  },
  {
   "cell_type": "code",
   "execution_count": 11,
   "metadata": {},
   "outputs": [
    {
     "data": {
      "text/plain": [
       "(array([0, 1, 4], dtype=int64),)"
      ]
     },
     "execution_count": 11,
     "metadata": {},
     "output_type": "execute_result"
    }
   ],
   "source": [
    "np.nonzero([1, 2, 0, 0, 4, 0])"
   ]
  },
  {
   "cell_type": "markdown",
   "metadata": {},
   "source": [
    "#### 11. Create a 3x3 identity matrix (★☆☆)"
   ]
  },
  {
   "cell_type": "code",
   "execution_count": 12,
   "metadata": {},
   "outputs": [
    {
     "data": {
      "text/plain": [
       "array([[1., 0., 0.],\n",
       "       [0., 1., 0.],\n",
       "       [0., 0., 1.]])"
      ]
     },
     "execution_count": 12,
     "metadata": {},
     "output_type": "execute_result"
    }
   ],
   "source": [
    "np.eye(3)"
   ]
  },
  {
   "cell_type": "markdown",
   "metadata": {},
   "source": [
    "#### 12. Create a 3x3x3 array with random values (★☆☆)"
   ]
  },
  {
   "cell_type": "code",
   "execution_count": 13,
   "metadata": {},
   "outputs": [
    {
     "data": {
      "text/plain": [
       "array([[[0.2465917 , 0.90252611, 0.82361172],\n",
       "        [0.74423663, 0.90990665, 0.41990892],\n",
       "        [0.75581446, 0.36777648, 0.44816574]],\n",
       "\n",
       "       [[0.12500135, 0.26289203, 0.39305613],\n",
       "        [0.6834317 , 0.71121839, 0.18845436],\n",
       "        [0.65378999, 0.84085586, 0.8212149 ]],\n",
       "\n",
       "       [[0.76490795, 0.52288525, 0.44894687],\n",
       "        [0.71311471, 0.0228092 , 0.34799834],\n",
       "        [0.77203029, 0.47147396, 0.64014987]]])"
      ]
     },
     "execution_count": 13,
     "metadata": {},
     "output_type": "execute_result"
    }
   ],
   "source": [
    "np.random.random((3, 3, 3))"
   ]
  },
  {
   "cell_type": "markdown",
   "metadata": {},
   "source": [
    "#### 13. Create a 10x10 array with random values and find the minimum and maximum values (★☆☆)"
   ]
  },
  {
   "cell_type": "code",
   "execution_count": 14,
   "metadata": {},
   "outputs": [],
   "source": [
    "arr = np.random.random((10, 10))\n",
    "mi, ma = arr.min(), arr.max()"
   ]
  },
  {
   "cell_type": "markdown",
   "metadata": {},
   "source": [
    "#### 14. Create a random vector of size 30 and find the mean value (★☆☆)"
   ]
  },
  {
   "cell_type": "code",
   "execution_count": 15,
   "metadata": {},
   "outputs": [
    {
     "data": {
      "text/plain": [
       "0.49997149336575325"
      ]
     },
     "execution_count": 15,
     "metadata": {},
     "output_type": "execute_result"
    }
   ],
   "source": [
    "arr = np.random.random(30)\n",
    "arr.mean()"
   ]
  },
  {
   "cell_type": "markdown",
   "metadata": {},
   "source": [
    "#### 15. Create a 2d array with 1 on the border and 0 inside (★☆☆)"
   ]
  },
  {
   "cell_type": "code",
   "execution_count": 16,
   "metadata": {},
   "outputs": [
    {
     "data": {
      "text/plain": [
       "array([[1., 1., 1., 1., 1., 1., 1., 1., 1., 1.],\n",
       "       [1., 0., 0., 0., 0., 0., 0., 0., 0., 1.],\n",
       "       [1., 0., 0., 0., 0., 0., 0., 0., 0., 1.],\n",
       "       [1., 0., 0., 0., 0., 0., 0., 0., 0., 1.],\n",
       "       [1., 0., 0., 0., 0., 0., 0., 0., 0., 1.],\n",
       "       [1., 0., 0., 0., 0., 0., 0., 0., 0., 1.],\n",
       "       [1., 0., 0., 0., 0., 0., 0., 0., 0., 1.],\n",
       "       [1., 0., 0., 0., 0., 0., 0., 0., 0., 1.],\n",
       "       [1., 0., 0., 0., 0., 0., 0., 0., 0., 1.],\n",
       "       [1., 1., 1., 1., 1., 1., 1., 1., 1., 1.]])"
      ]
     },
     "execution_count": 16,
     "metadata": {},
     "output_type": "execute_result"
    }
   ],
   "source": [
    "arr = np.ones((10, 10))\n",
    "arr[1:-1, 1:-1] = 0\n",
    "arr"
   ]
  },
  {
   "cell_type": "markdown",
   "metadata": {},
   "source": [
    "#### 16. How to add a border (filled with 0's) around an existing array? (★☆☆)"
   ]
  },
  {
   "cell_type": "code",
   "execution_count": 17,
   "metadata": {},
   "outputs": [
    {
     "data": {
      "text/plain": [
       "array([[0., 0., 0., 0., 0., 0., 0.],\n",
       "       [0., 1., 1., 1., 1., 1., 0.],\n",
       "       [0., 1., 1., 1., 1., 1., 0.],\n",
       "       [0., 1., 1., 1., 1., 1., 0.],\n",
       "       [0., 1., 1., 1., 1., 1., 0.],\n",
       "       [0., 1., 1., 1., 1., 1., 0.],\n",
       "       [0., 0., 0., 0., 0., 0., 0.]])"
      ]
     },
     "execution_count": 17,
     "metadata": {},
     "output_type": "execute_result"
    }
   ],
   "source": [
    "np.pad(np.ones((5, 5)), pad_width=1, constant_values=0)"
   ]
  },
  {
   "cell_type": "code",
   "execution_count": 18,
   "metadata": {},
   "outputs": [
    {
     "data": {
      "text/plain": [
       "array([[0., 0., 0., 0., 0.],\n",
       "       [0., 1., 1., 1., 0.],\n",
       "       [0., 1., 1., 1., 0.],\n",
       "       [0., 1., 1., 1., 0.],\n",
       "       [0., 0., 0., 0., 0.]])"
      ]
     },
     "execution_count": 18,
     "metadata": {},
     "output_type": "execute_result"
    }
   ],
   "source": [
    "arr = np.ones((5, 5))\n",
    "arr[:, [0, -1]] = 0\n",
    "arr[[0, -1], :] = 0\n",
    "arr"
   ]
  },
  {
   "cell_type": "markdown",
   "metadata": {},
   "source": [
    "#### 17. What is the result of the following expression? (★☆☆)\n",
    "```python\n",
    "0 * np.nan\n",
    "np.nan == np.nan\n",
    "np.inf > np.nan\n",
    "np.nan - np.nan\n",
    "np.nan in set([np.nan])\n",
    "0.3 == 3 * 0.1\n",
    "```"
   ]
  },
  {
   "cell_type": "code",
   "execution_count": 19,
   "metadata": {},
   "outputs": [
    {
     "name": "stdout",
     "output_type": "stream",
     "text": [
      "nan\n",
      "False\n",
      "False\n",
      "nan\n",
      "True\n",
      "False\n"
     ]
    }
   ],
   "source": [
    "print(0 * np.nan)\n",
    "print(np.nan == np.nan)\n",
    "print(np.inf > np.nan)\n",
    "print(np.nan - np.nan)\n",
    "print(np.nan in set([np.nan]))\n",
    "print(0.3 == 3 * 0.1)"
   ]
  },
  {
   "cell_type": "markdown",
   "metadata": {},
   "source": [
    "#### 18. Create a 5x5 matrix with values 1,2,3,4 just below the diagonal (★☆☆)"
   ]
  },
  {
   "cell_type": "code",
   "execution_count": 20,
   "metadata": {},
   "outputs": [
    {
     "data": {
      "text/plain": [
       "array([[0, 0, 0, 0, 0],\n",
       "       [1, 0, 0, 0, 0],\n",
       "       [0, 2, 0, 0, 0],\n",
       "       [0, 0, 3, 0, 0],\n",
       "       [0, 0, 0, 4, 0]])"
      ]
     },
     "execution_count": 20,
     "metadata": {},
     "output_type": "execute_result"
    }
   ],
   "source": [
    "np.diag(1 + np.arange(4), k=-1)"
   ]
  },
  {
   "cell_type": "code",
   "execution_count": 21,
   "metadata": {},
   "outputs": [
    {
     "data": {
      "text/plain": [
       "array([[0, 1, 0, 0, 0],\n",
       "       [0, 0, 2, 0, 0],\n",
       "       [0, 0, 0, 3, 0],\n",
       "       [0, 0, 0, 0, 4],\n",
       "       [0, 0, 0, 0, 0]])"
      ]
     },
     "execution_count": 21,
     "metadata": {},
     "output_type": "execute_result"
    }
   ],
   "source": [
    "np.diag(1 + np.arange(4), k=1)"
   ]
  },
  {
   "cell_type": "markdown",
   "metadata": {},
   "source": [
    "#### 19. Create a 8x8 matrix and fill it with a checkerboard pattern (★☆☆)"
   ]
  },
  {
   "cell_type": "code",
   "execution_count": 22,
   "metadata": {},
   "outputs": [
    {
     "data": {
      "text/plain": [
       "array([[0., 1., 0., 1., 0., 1., 0., 1.],\n",
       "       [1., 0., 1., 0., 1., 0., 1., 0.],\n",
       "       [0., 1., 0., 1., 0., 1., 0., 1.],\n",
       "       [1., 0., 1., 0., 1., 0., 1., 0.],\n",
       "       [0., 1., 0., 1., 0., 1., 0., 1.],\n",
       "       [1., 0., 1., 0., 1., 0., 1., 0.],\n",
       "       [0., 1., 0., 1., 0., 1., 0., 1.],\n",
       "       [1., 0., 1., 0., 1., 0., 1., 0.]])"
      ]
     },
     "execution_count": 22,
     "metadata": {},
     "output_type": "execute_result"
    }
   ],
   "source": [
    "arr = np.zeros((8, 8))\n",
    "arr[1::2, ::2] = 1\n",
    "arr[::2, 1::2] = 1\n",
    "arr"
   ]
  },
  {
   "cell_type": "markdown",
   "metadata": {},
   "source": [
    "#### 20. Consider a (6,7,8) shape array, what is the index (x,y,z) of the 100th element?"
   ]
  },
  {
   "cell_type": "code",
   "execution_count": 23,
   "metadata": {},
   "outputs": [
    {
     "data": {
      "text/plain": [
       "(1, 5, 3)"
      ]
     },
     "execution_count": 23,
     "metadata": {},
     "output_type": "execute_result"
    }
   ],
   "source": [
    "np.unravel_index(99, (6, 7, 8))"
   ]
  },
  {
   "cell_type": "markdown",
   "metadata": {},
   "source": [
    "#### 21. Create a checkerboard 8x8 matrix using the tile function (★☆☆)"
   ]
  },
  {
   "cell_type": "code",
   "execution_count": 24,
   "metadata": {},
   "outputs": [
    {
     "data": {
      "text/plain": [
       "array([[0, 1, 0, 1, 0, 1, 0, 1],\n",
       "       [1, 0, 1, 0, 1, 0, 1, 0],\n",
       "       [0, 1, 0, 1, 0, 1, 0, 1],\n",
       "       [1, 0, 1, 0, 1, 0, 1, 0],\n",
       "       [0, 1, 0, 1, 0, 1, 0, 1],\n",
       "       [1, 0, 1, 0, 1, 0, 1, 0],\n",
       "       [0, 1, 0, 1, 0, 1, 0, 1],\n",
       "       [1, 0, 1, 0, 1, 0, 1, 0]])"
      ]
     },
     "execution_count": 24,
     "metadata": {},
     "output_type": "execute_result"
    }
   ],
   "source": [
    "np.tile(np.array([[0, 1], [1, 0]]), (4, 4))"
   ]
  },
  {
   "cell_type": "markdown",
   "metadata": {},
   "source": [
    "#### 22. Normalize a 5x5 random matrix (★☆☆)"
   ]
  },
  {
   "cell_type": "code",
   "execution_count": 25,
   "metadata": {},
   "outputs": [
    {
     "data": {
      "text/plain": [
       "array([[-0.15410897,  1.50151369, -1.50228839,  0.82435423,  0.05287974],\n",
       "       [-1.23495931, -1.63208642,  0.19223423,  0.40797643,  0.98601356],\n",
       "       [ 0.33590789,  1.32046537, -0.38420579,  0.41252488, -0.31283385],\n",
       "       [-1.20123139, -1.55687529,  0.36227501,  0.76548034, -1.5837217 ],\n",
       "       [ 1.37211543,  0.29275971,  1.02453549,  0.85412423, -1.14284914]])"
      ]
     },
     "execution_count": 25,
     "metadata": {},
     "output_type": "execute_result"
    }
   ],
   "source": [
    "arr = np.random.random((5, 5))\n",
    "(arr - np.mean(arr)) / np.std(arr)"
   ]
  },
  {
   "cell_type": "markdown",
   "metadata": {},
   "source": [
    "#### 23. Create a custom dtype that describes a color as four unsigned bytes (RGBA) (★☆☆)"
   ]
  },
  {
   "cell_type": "code",
   "execution_count": 26,
   "metadata": {},
   "outputs": [
    {
     "name": "stderr",
     "output_type": "stream",
     "text": [
      "d:\\programdata\\python36\\lib\\site-packages\\ipykernel_launcher.py:2: FutureWarning: Passing (type, 1) or '1type' as a synonym of type is deprecated; in a future version of numpy, it will be understood as (type, (1,)) / '(1,)type'.\n",
      "  \n"
     ]
    },
    {
     "data": {
      "text/plain": [
       "dtype([('r', 'u1'), ('g', 'u1'), ('b', 'u1'), ('a', 'u1')])"
      ]
     },
     "execution_count": 26,
     "metadata": {},
     "output_type": "execute_result"
    }
   ],
   "source": [
    "color = np.dtype([(\"r\", np.ubyte, 1), (\"g\", np.ubyte, 1), (\"b\", np.ubyte, 1),\n",
    "                  (\"a\", np.ubyte, 1)])\n",
    "color"
   ]
  },
  {
   "cell_type": "markdown",
   "metadata": {},
   "source": [
    "#### 24. Multiply a 5x3 matrix by a 3x2 matrix (real matrix product) (★☆☆)"
   ]
  },
  {
   "cell_type": "code",
   "execution_count": 27,
   "metadata": {},
   "outputs": [
    {
     "data": {
      "text/plain": [
       "array([[0., 0.],\n",
       "       [0., 0.],\n",
       "       [0., 0.],\n",
       "       [0., 0.],\n",
       "       [0., 0.]])"
      ]
     },
     "execution_count": 27,
     "metadata": {},
     "output_type": "execute_result"
    }
   ],
   "source": [
    "np.dot(np.zeros((5, 3)), np.zeros((3, 2)))"
   ]
  },
  {
   "cell_type": "code",
   "execution_count": 28,
   "metadata": {},
   "outputs": [
    {
     "data": {
      "text/plain": [
       "array([[3., 3.],\n",
       "       [3., 3.],\n",
       "       [3., 3.],\n",
       "       [3., 3.],\n",
       "       [3., 3.]])"
      ]
     },
     "execution_count": 28,
     "metadata": {},
     "output_type": "execute_result"
    }
   ],
   "source": [
    "np.ones((5, 3)) @ np.ones((3, 2))"
   ]
  },
  {
   "cell_type": "markdown",
   "metadata": {},
   "source": [
    "#### 25. Given a 1D array, negate all elements which are between 3 and 8, in place. (★☆☆)"
   ]
  },
  {
   "cell_type": "code",
   "execution_count": 29,
   "metadata": {},
   "outputs": [
    {
     "data": {
      "text/plain": [
       "array([ 0,  1,  2,  3, -4, -5, -6, -7,  8,  9, 10, 11, 12, 13, 14, 15])"
      ]
     },
     "execution_count": 29,
     "metadata": {},
     "output_type": "execute_result"
    }
   ],
   "source": [
    "arr = np.arange(16)\n",
    "arr[(arr > 3) & (arr < 8)] *= -1\n",
    "arr"
   ]
  },
  {
   "cell_type": "markdown",
   "metadata": {},
   "source": [
    "#### 26. What is the output of the following script? (★☆☆)\n",
    "```python\n",
    "# Author: Jake VanderPlas\n",
    "\n",
    "print(sum(range(5),-1))\n",
    "from numpy import *\n",
    "print(sum(range(5),-1))\n",
    "```"
   ]
  },
  {
   "cell_type": "code",
   "execution_count": 30,
   "metadata": {},
   "outputs": [
    {
     "name": "stdout",
     "output_type": "stream",
     "text": [
      "9\n",
      "10\n"
     ]
    }
   ],
   "source": [
    "print(sum(range(5), -1))\n",
    "\n",
    "print(np.sum(range(5), -1))"
   ]
  },
  {
   "cell_type": "markdown",
   "metadata": {},
   "source": [
    "#### 27. Consider an integer vector Z, which of these expressions are legal? (★☆☆)\n",
    "```python\n",
    "Z**Z\n",
    "2 << Z >> 2\n",
    "Z <- Z\n",
    "1j*Z\n",
    "Z/1/1\n",
    "Z<Z>Z\n",
    "```"
   ]
  },
  {
   "cell_type": "code",
   "execution_count": 31,
   "metadata": {},
   "outputs": [],
   "source": [
    "z = np.array([1, 2, 3])"
   ]
  },
  {
   "cell_type": "code",
   "execution_count": 32,
   "metadata": {},
   "outputs": [
    {
     "data": {
      "text/plain": [
       "array([ 1,  4, 27], dtype=int32)"
      ]
     },
     "execution_count": 32,
     "metadata": {},
     "output_type": "execute_result"
    }
   ],
   "source": [
    "z**z"
   ]
  },
  {
   "cell_type": "code",
   "execution_count": 33,
   "metadata": {},
   "outputs": [
    {
     "data": {
      "text/plain": [
       "array([1, 2, 4], dtype=int32)"
      ]
     },
     "execution_count": 33,
     "metadata": {},
     "output_type": "execute_result"
    }
   ],
   "source": [
    "2 << z >> 2"
   ]
  },
  {
   "cell_type": "code",
   "execution_count": 34,
   "metadata": {},
   "outputs": [
    {
     "data": {
      "text/plain": [
       "array([False, False, False])"
      ]
     },
     "execution_count": 34,
     "metadata": {},
     "output_type": "execute_result"
    }
   ],
   "source": [
    "z < -z"
   ]
  },
  {
   "cell_type": "code",
   "execution_count": 35,
   "metadata": {},
   "outputs": [
    {
     "data": {
      "text/plain": [
       "array([0.+1.j, 0.+2.j, 0.+3.j])"
      ]
     },
     "execution_count": 35,
     "metadata": {},
     "output_type": "execute_result"
    }
   ],
   "source": [
    "1j * z"
   ]
  },
  {
   "cell_type": "code",
   "execution_count": 36,
   "metadata": {},
   "outputs": [
    {
     "data": {
      "text/plain": [
       "array([1., 2., 3.])"
      ]
     },
     "execution_count": 36,
     "metadata": {},
     "output_type": "execute_result"
    }
   ],
   "source": [
    "z / 1 / 1"
   ]
  },
  {
   "cell_type": "code",
   "execution_count": 37,
   "metadata": {},
   "outputs": [
    {
     "data": {
      "text/plain": [
       "array([False, False, False])"
      ]
     },
     "execution_count": 37,
     "metadata": {},
     "output_type": "execute_result"
    }
   ],
   "source": [
    "z < z"
   ]
  },
  {
   "cell_type": "code",
   "execution_count": 38,
   "metadata": {},
   "outputs": [
    {
     "ename": "ValueError",
     "evalue": "The truth value of an array with more than one element is ambiguous. Use a.any() or a.all()",
     "output_type": "error",
     "traceback": [
      "\u001b[1;31m---------------------------------------------------------------------------\u001b[0m",
      "\u001b[1;31mValueError\u001b[0m                                Traceback (most recent call last)",
      "\u001b[1;32m<ipython-input-38-8f3076d020b4>\u001b[0m in \u001b[0;36m<module>\u001b[1;34m\u001b[0m\n\u001b[1;32m----> 1\u001b[1;33m \u001b[0mz\u001b[0m \u001b[1;33m<\u001b[0m \u001b[0mz\u001b[0m \u001b[1;33m>\u001b[0m \u001b[0mz\u001b[0m\u001b[1;33m\u001b[0m\u001b[1;33m\u001b[0m\u001b[0m\n\u001b[0m",
      "\u001b[1;31mValueError\u001b[0m: The truth value of an array with more than one element is ambiguous. Use a.any() or a.all()"
     ]
    }
   ],
   "source": [
    "z < z > z"
   ]
  },
  {
   "cell_type": "markdown",
   "metadata": {},
   "source": [
    "#### 28. What are the result of the following expressions?\n",
    "```python\n",
    "np.array(0) / np.array(0)\n",
    "np.array(0) // np.array(0)\n",
    "np.array([np.nan]).astype(int).astype(float)\n",
    "```"
   ]
  },
  {
   "cell_type": "code",
   "execution_count": 39,
   "metadata": {},
   "outputs": [
    {
     "name": "stdout",
     "output_type": "stream",
     "text": [
      "nan\n"
     ]
    },
    {
     "name": "stderr",
     "output_type": "stream",
     "text": [
      "d:\\programdata\\python36\\lib\\site-packages\\ipykernel_launcher.py:1: RuntimeWarning: invalid value encountered in true_divide\n",
      "  \"\"\"Entry point for launching an IPython kernel.\n"
     ]
    }
   ],
   "source": [
    "print(np.array(0) / np.array(0))"
   ]
  },
  {
   "cell_type": "code",
   "execution_count": 40,
   "metadata": {},
   "outputs": [
    {
     "name": "stderr",
     "output_type": "stream",
     "text": [
      "d:\\programdata\\python36\\lib\\site-packages\\ipykernel_launcher.py:1: RuntimeWarning: divide by zero encountered in floor_divide\n",
      "  \"\"\"Entry point for launching an IPython kernel.\n"
     ]
    },
    {
     "data": {
      "text/plain": [
       "0"
      ]
     },
     "execution_count": 40,
     "metadata": {},
     "output_type": "execute_result"
    }
   ],
   "source": [
    "np.array(0) // np.array(0)"
   ]
  },
  {
   "cell_type": "code",
   "execution_count": 41,
   "metadata": {},
   "outputs": [
    {
     "data": {
      "text/plain": [
       "array([-2.14748365e+09])"
      ]
     },
     "execution_count": 41,
     "metadata": {},
     "output_type": "execute_result"
    }
   ],
   "source": [
    "np.array([np.nan]).astype(int).astype(float)"
   ]
  },
  {
   "cell_type": "code",
   "execution_count": 42,
   "metadata": {},
   "outputs": [
    {
     "data": {
      "text/plain": [
       "array([-2147483648])"
      ]
     },
     "execution_count": 42,
     "metadata": {},
     "output_type": "execute_result"
    }
   ],
   "source": [
    "np.array([np.nan]).astype(float).astype(int)"
   ]
  },
  {
   "cell_type": "markdown",
   "metadata": {},
   "source": [
    "#### 29. How to round away from zero a float array ? (★☆☆)"
   ]
  },
  {
   "cell_type": "code",
   "execution_count": 43,
   "metadata": {},
   "outputs": [
    {
     "name": "stdout",
     "output_type": "stream",
     "text": [
      "[-8.72902363  7.47709033  7.65940493  8.86535662 -6.52605002 -4.86112574\n",
      "  7.56896694  3.51092632  6.58143925  5.49538707]\n"
     ]
    }
   ],
   "source": [
    "z = np.random.uniform(-10, 10, 10)\n",
    "print(z)"
   ]
  },
  {
   "cell_type": "code",
   "execution_count": 44,
   "metadata": {},
   "outputs": [
    {
     "data": {
      "text/plain": [
       "array([-9.,  8.,  8.,  9., -7., -5.,  8.,  4.,  7.,  6.])"
      ]
     },
     "execution_count": 44,
     "metadata": {},
     "output_type": "execute_result"
    }
   ],
   "source": [
    "np.copysign(np.ceil(np.abs(z)), z)"
   ]
  },
  {
   "cell_type": "code",
   "execution_count": 45,
   "metadata": {},
   "outputs": [
    {
     "data": {
      "text/plain": [
       "array([-9.,  8.,  8.,  9., -7., -5.,  8.,  4.,  7.,  6.])"
      ]
     },
     "execution_count": 45,
     "metadata": {},
     "output_type": "execute_result"
    }
   ],
   "source": [
    "# or\n",
    "np.where(z > 0, np.ceil(z), np.floor(z))"
   ]
  },
  {
   "cell_type": "markdown",
   "metadata": {},
   "source": [
    "#### 30. How to find common values between two arrays? (★☆☆)"
   ]
  },
  {
   "cell_type": "code",
   "execution_count": 46,
   "metadata": {},
   "outputs": [
    {
     "data": {
      "text/plain": [
       "array([0, 1, 4, 6, 8])"
      ]
     },
     "execution_count": 46,
     "metadata": {},
     "output_type": "execute_result"
    }
   ],
   "source": [
    "Z1 = np.random.randint(0, 10, 10)\n",
    "Z2 = np.random.randint(0, 10, 10)\n",
    "np.intersect1d(Z1, Z2)"
   ]
  },
  {
   "cell_type": "markdown",
   "metadata": {},
   "source": [
    "#### 31. How to ignore all numpy warnings (not recommended)? (★☆☆)"
   ]
  },
  {
   "cell_type": "code",
   "execution_count": 47,
   "metadata": {},
   "outputs": [],
   "source": [
    "defaults = np.seterr(all=\"ignore\")\n",
    "Z = np.ones(1) / 0"
   ]
  },
  {
   "cell_type": "code",
   "execution_count": 48,
   "metadata": {},
   "outputs": [
    {
     "name": "stderr",
     "output_type": "stream",
     "text": [
      "d:\\programdata\\python36\\lib\\site-packages\\ipykernel_launcher.py:3: RuntimeWarning: divide by zero encountered in true_divide\n",
      "  This is separate from the ipykernel package so we can avoid doing imports until\n"
     ]
    }
   ],
   "source": [
    "# 正常\n",
    "_ = np.seterr(**defaults)\n",
    "Z = np.ones(1) / 0"
   ]
  },
  {
   "cell_type": "code",
   "execution_count": 49,
   "metadata": {},
   "outputs": [],
   "source": [
    "# or\n",
    "with np.errstate(all=\"ignore\"):\n",
    "    np.arange(3) / 0"
   ]
  },
  {
   "cell_type": "markdown",
   "metadata": {},
   "source": [
    "#### 32. Is the following expressions true? (★☆☆)\n",
    "```python\n",
    "np.sqrt(-1) == np.emath.sqrt(-1)\n",
    "```"
   ]
  },
  {
   "cell_type": "code",
   "execution_count": 50,
   "metadata": {},
   "outputs": [
    {
     "name": "stderr",
     "output_type": "stream",
     "text": [
      "d:\\programdata\\python36\\lib\\site-packages\\ipykernel_launcher.py:1: RuntimeWarning: invalid value encountered in sqrt\n",
      "  \"\"\"Entry point for launching an IPython kernel.\n"
     ]
    },
    {
     "data": {
      "text/plain": [
       "False"
      ]
     },
     "execution_count": 50,
     "metadata": {},
     "output_type": "execute_result"
    }
   ],
   "source": [
    "np.sqrt(-1) == np.emath.sqrt(-1)"
   ]
  },
  {
   "cell_type": "markdown",
   "metadata": {},
   "source": [
    "#### 33. How to get the dates of yesterday, today and tomorrow? (★☆☆)"
   ]
  },
  {
   "cell_type": "code",
   "execution_count": 51,
   "metadata": {},
   "outputs": [
    {
     "data": {
      "text/plain": [
       "numpy.datetime64('2021-01-16')"
      ]
     },
     "execution_count": 51,
     "metadata": {},
     "output_type": "execute_result"
    }
   ],
   "source": [
    "np.datetime64(\"today\") - np.timedelta64(1)"
   ]
  },
  {
   "cell_type": "code",
   "execution_count": 52,
   "metadata": {},
   "outputs": [
    {
     "data": {
      "text/plain": [
       "numpy.datetime64('2021-01-17')"
      ]
     },
     "execution_count": 52,
     "metadata": {},
     "output_type": "execute_result"
    }
   ],
   "source": [
    "np.datetime64(\"today\")"
   ]
  },
  {
   "cell_type": "code",
   "execution_count": 53,
   "metadata": {},
   "outputs": [
    {
     "data": {
      "text/plain": [
       "numpy.datetime64('2021-01-18')"
      ]
     },
     "execution_count": 53,
     "metadata": {},
     "output_type": "execute_result"
    }
   ],
   "source": [
    "np.datetime64(\"today\") + np.timedelta64(1)"
   ]
  },
  {
   "cell_type": "markdown",
   "metadata": {},
   "source": [
    "#### 34. How to get all the dates corresponding to the month of July 2016? (★★☆)"
   ]
  },
  {
   "cell_type": "code",
   "execution_count": 54,
   "metadata": {},
   "outputs": [
    {
     "data": {
      "text/plain": [
       "array(['2020-09-01', '2020-09-02', '2020-09-03', '2020-09-04',\n",
       "       '2020-09-05', '2020-09-06', '2020-09-07', '2020-09-08',\n",
       "       '2020-09-09', '2020-09-10', '2020-09-11', '2020-09-12',\n",
       "       '2020-09-13', '2020-09-14', '2020-09-15', '2020-09-16',\n",
       "       '2020-09-17', '2020-09-18', '2020-09-19', '2020-09-20',\n",
       "       '2020-09-21', '2020-09-22', '2020-09-23', '2020-09-24',\n",
       "       '2020-09-25', '2020-09-26', '2020-09-27', '2020-09-28',\n",
       "       '2020-09-29', '2020-09-30'], dtype='datetime64[D]')"
      ]
     },
     "execution_count": 54,
     "metadata": {},
     "output_type": "execute_result"
    }
   ],
   "source": [
    "np.arange(\"2020-09\", \"2020-10\", dtype=\"datetime64[D]\")"
   ]
  },
  {
   "cell_type": "markdown",
   "metadata": {},
   "source": [
    "#### 35. How to compute ((A+B)*(-A/2)) in place (without copy)? (★★☆)"
   ]
  },
  {
   "cell_type": "code",
   "execution_count": 55,
   "metadata": {},
   "outputs": [
    {
     "data": {
      "text/plain": [
       "array([-1.5, -1.5, -1.5])"
      ]
     },
     "execution_count": 55,
     "metadata": {},
     "output_type": "execute_result"
    }
   ],
   "source": [
    "A = np.ones(3) * 1\n",
    "B = np.ones(3) * 2\n",
    "C = np.ones(3) * 3\n",
    "\n",
    "np.add(A, B, out=B)\n",
    "np.divide(A, -2, out=A)\n",
    "np.multiply(A, B, out=A)"
   ]
  },
  {
   "cell_type": "code",
   "execution_count": 56,
   "metadata": {},
   "outputs": [
    {
     "data": {
      "text/plain": [
       "array([-1.5, -1.5, -1.5])"
      ]
     },
     "execution_count": 56,
     "metadata": {},
     "output_type": "execute_result"
    }
   ],
   "source": [
    "A = np.ones(3) * 1\n",
    "B = np.ones(3) * 2\n",
    "C = np.ones(3) * 3\n",
    "np.add(A, B, out=B)\n",
    "np.divide(A, 2, out=A)\n",
    "np.negative(A, out=A)\n",
    "np.multiply(A, B, out=A)"
   ]
  },
  {
   "cell_type": "markdown",
   "metadata": {},
   "source": [
    "#### 36. Extract the integer part of a random array of positive numbers using 4 different methods (★★☆)"
   ]
  },
  {
   "cell_type": "code",
   "execution_count": 57,
   "metadata": {},
   "outputs": [],
   "source": [
    "z = np.random.uniform(0, 10, 10)"
   ]
  },
  {
   "cell_type": "code",
   "execution_count": 58,
   "metadata": {},
   "outputs": [
    {
     "name": "stdout",
     "output_type": "stream",
     "text": [
      "[9. 6. 3. 8. 0. 1. 7. 3. 0. 1.]\n",
      "[9. 6. 3. 8. 0. 1. 7. 3. 0. 1.]\n",
      "[9. 6. 3. 8. 0. 1. 7. 3. 0. 1.]\n",
      "[9. 6. 3. 8. 0. 1. 7. 3. 0. 1.]\n",
      "[9. 6. 3. 8. 0. 1. 7. 3. 0. 1.]\n"
     ]
    }
   ],
   "source": [
    "print(z - z % 1)\n",
    "print(z // 1)\n",
    "print(z.astype(int).astype(float))\n",
    "print(np.trunc(z))\n",
    "print(np.floor(z))"
   ]
  },
  {
   "cell_type": "markdown",
   "metadata": {},
   "source": [
    "#### 37. Create a 5x5 matrix with row values ranging from 0 to 4 (★★☆)"
   ]
  },
  {
   "cell_type": "code",
   "execution_count": 59,
   "metadata": {},
   "outputs": [
    {
     "data": {
      "text/plain": [
       "array([[0., 1., 2., 3., 4.],\n",
       "       [0., 1., 2., 3., 4.],\n",
       "       [0., 1., 2., 3., 4.],\n",
       "       [0., 1., 2., 3., 4.],\n",
       "       [0., 1., 2., 3., 4.]])"
      ]
     },
     "execution_count": 59,
     "metadata": {},
     "output_type": "execute_result"
    }
   ],
   "source": [
    "np.zeros((5, 5)) + np.arange(5)"
   ]
  },
  {
   "cell_type": "markdown",
   "metadata": {},
   "source": [
    "#### 38. Consider a generator function that generates 10 integers and use it to build an array (★☆☆)"
   ]
  },
  {
   "cell_type": "code",
   "execution_count": 60,
   "metadata": {},
   "outputs": [
    {
     "data": {
      "text/plain": [
       "array([0., 1., 2., 3., 4., 5., 6., 7., 8., 9.])"
      ]
     },
     "execution_count": 60,
     "metadata": {},
     "output_type": "execute_result"
    }
   ],
   "source": [
    "def generate():\n",
    "    for x in range(10):\n",
    "        yield x\n",
    "\n",
    "\n",
    "np.fromiter(generate(), dtype=float, count=-1)"
   ]
  },
  {
   "cell_type": "code",
   "execution_count": 61,
   "metadata": {},
   "outputs": [
    {
     "data": {
      "text/plain": [
       "array([0., 1., 2., 3., 4., 5., 6., 7., 8., 9.])"
      ]
     },
     "execution_count": 61,
     "metadata": {},
     "output_type": "execute_result"
    }
   ],
   "source": [
    "np.fromiter((i for i in range(10)), dtype=float, count=-1)"
   ]
  },
  {
   "cell_type": "markdown",
   "metadata": {},
   "source": [
    "#### 39. Create a vector of size 10 with values ranging from 0 to 1, both excluded (★★☆)"
   ]
  },
  {
   "cell_type": "code",
   "execution_count": 62,
   "metadata": {},
   "outputs": [
    {
     "data": {
      "text/plain": [
       "array([0.09090909, 0.18181818, 0.27272727, 0.36363636, 0.45454545,\n",
       "       0.54545455, 0.63636364, 0.72727273, 0.81818182, 0.90909091])"
      ]
     },
     "execution_count": 62,
     "metadata": {},
     "output_type": "execute_result"
    }
   ],
   "source": [
    "np.linspace(0, 1, 11, endpoint=False)[1:]"
   ]
  },
  {
   "cell_type": "markdown",
   "metadata": {},
   "source": [
    "#### 40. Create a random vector of size 10 and sort it (★★☆)"
   ]
  },
  {
   "cell_type": "code",
   "execution_count": 63,
   "metadata": {},
   "outputs": [
    {
     "name": "stdout",
     "output_type": "stream",
     "text": [
      "[-0.79406532 -0.37647113 -0.36177111 -0.34360987 -0.13057031 -0.04427678\n",
      "  0.6470954   0.84758333  1.27865325  1.37968667]\n"
     ]
    }
   ],
   "source": [
    "z = np.random.randn(10)\n",
    "z.sort()\n",
    "print(z)"
   ]
  },
  {
   "cell_type": "markdown",
   "metadata": {},
   "source": [
    "#### 41. How to sum a small array faster than np.sum? (★★☆)"
   ]
  },
  {
   "cell_type": "code",
   "execution_count": 64,
   "metadata": {},
   "outputs": [
    {
     "name": "stdout",
     "output_type": "stream",
     "text": [
      "2.09 µs ± 88.9 ns per loop (mean ± std. dev. of 7 runs, 100000 loops each)\n"
     ]
    }
   ],
   "source": [
    "%%timeit\n",
    "np.add.reduce(np.arange(100))"
   ]
  },
  {
   "cell_type": "code",
   "execution_count": 65,
   "metadata": {},
   "outputs": [
    {
     "name": "stdout",
     "output_type": "stream",
     "text": [
      "4.58 µs ± 48.2 ns per loop (mean ± std. dev. of 7 runs, 100000 loops each)\n"
     ]
    }
   ],
   "source": [
    "%%timeit\n",
    "np.sum(np.arange(100))"
   ]
  },
  {
   "cell_type": "markdown",
   "metadata": {},
   "source": [
    "#### 42. Consider two random array A and B, check if they are equal (★★☆)"
   ]
  },
  {
   "cell_type": "code",
   "execution_count": 66,
   "metadata": {},
   "outputs": [
    {
     "name": "stdout",
     "output_type": "stream",
     "text": [
      "False\n",
      "False\n"
     ]
    }
   ],
   "source": [
    "A = np.random.randint(0, 2, 5)\n",
    "B = np.random.randint(0, 2, 5)\n",
    "\n",
    "tolerance = np.allclose(A, B)\n",
    "exact = np.array_equal(A, B)\n",
    "\n",
    "print(tolerance)\n",
    "print(exact)"
   ]
  },
  {
   "cell_type": "markdown",
   "metadata": {},
   "source": [
    "#### 43. Make an array immutable (read-only) (★★☆)"
   ]
  },
  {
   "cell_type": "code",
   "execution_count": 67,
   "metadata": {},
   "outputs": [
    {
     "ename": "ValueError",
     "evalue": "assignment destination is read-only",
     "output_type": "error",
     "traceback": [
      "\u001b[1;31m---------------------------------------------------------------------------\u001b[0m",
      "\u001b[1;31mValueError\u001b[0m                                Traceback (most recent call last)",
      "\u001b[1;32m<ipython-input-67-7b080b7e41c6>\u001b[0m in \u001b[0;36m<module>\u001b[1;34m\u001b[0m\n\u001b[0;32m      1\u001b[0m \u001b[0mz\u001b[0m \u001b[1;33m=\u001b[0m \u001b[0mnp\u001b[0m\u001b[1;33m.\u001b[0m\u001b[0mzeros\u001b[0m\u001b[1;33m(\u001b[0m\u001b[1;36m10\u001b[0m\u001b[1;33m,\u001b[0m \u001b[0mdtype\u001b[0m\u001b[1;33m=\u001b[0m\u001b[0mint\u001b[0m\u001b[1;33m)\u001b[0m\u001b[1;33m\u001b[0m\u001b[1;33m\u001b[0m\u001b[0m\n\u001b[0;32m      2\u001b[0m \u001b[0mz\u001b[0m\u001b[1;33m.\u001b[0m\u001b[0mflags\u001b[0m\u001b[1;33m.\u001b[0m\u001b[0mwriteable\u001b[0m \u001b[1;33m=\u001b[0m \u001b[1;32mFalse\u001b[0m\u001b[1;33m\u001b[0m\u001b[1;33m\u001b[0m\u001b[0m\n\u001b[1;32m----> 3\u001b[1;33m \u001b[0mz\u001b[0m\u001b[1;33m[\u001b[0m\u001b[1;36m0\u001b[0m\u001b[1;33m]\u001b[0m \u001b[1;33m=\u001b[0m \u001b[1;36m1\u001b[0m\u001b[1;33m\u001b[0m\u001b[1;33m\u001b[0m\u001b[0m\n\u001b[0m",
      "\u001b[1;31mValueError\u001b[0m: assignment destination is read-only"
     ]
    }
   ],
   "source": [
    "z = np.zeros(10, dtype=int)\n",
    "z.flags.writeable = False\n",
    "z[0] = 1"
   ]
  },
  {
   "cell_type": "markdown",
   "metadata": {},
   "source": [
    "#### 44. Consider a random 10x2 matrix representing cartesian coordinates, convert them to polar coordinates (★★☆)"
   ]
  },
  {
   "cell_type": "code",
   "execution_count": 68,
   "metadata": {},
   "outputs": [
    {
     "name": "stdout",
     "output_type": "stream",
     "text": [
      "[0.55632717 0.46561342 0.95617445 1.13319766 0.78258454 0.99905353\n",
      " 0.59243803 0.95043166 0.27484713 0.72810401]\n",
      "[1.55742988 0.31120461 1.23133211 0.87815757 1.52665729 0.15692043\n",
      " 0.22064487 1.34785416 0.28146762 0.69504032]\n",
      "[[0.55632717 0.46561342 0.95617445 1.13319766 0.78258454 0.99905353\n",
      "  0.59243803 0.95043166 0.27484713 0.72810401]\n",
      " [1.55742988 0.31120461 1.23133211 0.87815757 1.52665729 0.15692043\n",
      "  0.22064487 1.34785416 0.28146762 0.69504032]]\n",
      "[[0.55632717 0.46561342 0.95617445 1.13319766 0.78258454 0.99905353\n",
      "  0.59243803 0.95043166 0.27484713 0.72810401]\n",
      " [1.55742988 0.31120461 1.23133211 0.87815757 1.52665729 0.15692043\n",
      "  0.22064487 1.34785416 0.28146762 0.69504032]]\n"
     ]
    }
   ],
   "source": [
    "z = np.random.random((10, 2))\n",
    "X, Y = z[:, 0], z[:, 1]\n",
    "R = np.sqrt(X**2 + Y**2)\n",
    "T = np.arctan2(Y, X)\n",
    "print(R)\n",
    "print(T)\n",
    "\n",
    "print(np.vstack((R, T)))\n",
    "\n",
    "print(np.concatenate((R[np.newaxis, :], T[np.newaxis, :]), axis=0))"
   ]
  },
  {
   "cell_type": "markdown",
   "metadata": {},
   "source": [
    "#### 45. Create random vector of size 10 and replace the maximum value by 0 (★★☆)"
   ]
  },
  {
   "cell_type": "code",
   "execution_count": 69,
   "metadata": {},
   "outputs": [
    {
     "name": "stdout",
     "output_type": "stream",
     "text": [
      "[5 0 6 6 5 6 8 3 1 4]\n"
     ]
    }
   ],
   "source": [
    "z = np.random.randint(0, 10, 10)\n",
    "z[z.argmax()] = 0\n",
    "print(z)"
   ]
  },
  {
   "cell_type": "markdown",
   "metadata": {},
   "source": [
    "#### 46. Create a structured array with `x` and `y` coordinates covering the [0,1]x[0,1] area (★★☆)"
   ]
  },
  {
   "cell_type": "code",
   "execution_count": 70,
   "metadata": {},
   "outputs": [
    {
     "name": "stdout",
     "output_type": "stream",
     "text": [
      "[[(0.  , 0.  ) (0.25, 0.  ) (0.5 , 0.  ) (0.75, 0.  ) (1.  , 0.  )]\n",
      " [(0.  , 0.25) (0.25, 0.25) (0.5 , 0.25) (0.75, 0.25) (1.  , 0.25)]\n",
      " [(0.  , 0.5 ) (0.25, 0.5 ) (0.5 , 0.5 ) (0.75, 0.5 ) (1.  , 0.5 )]\n",
      " [(0.  , 0.75) (0.25, 0.75) (0.5 , 0.75) (0.75, 0.75) (1.  , 0.75)]\n",
      " [(0.  , 1.  ) (0.25, 1.  ) (0.5 , 1.  ) (0.75, 1.  ) (1.  , 1.  )]]\n"
     ]
    }
   ],
   "source": [
    "z = np.zeros((5, 5), [(\"x\", float), (\"y\", float)])\n",
    "z[\"x\"], z[\"y\"] = np.meshgrid(np.linspace(0, 1, 5), np.linspace(0, 1, 5))\n",
    "print(z)"
   ]
  },
  {
   "cell_type": "markdown",
   "metadata": {},
   "source": [
    "#### 47. Given two arrays, X and Y, construct the Cauchy matrix C (Cij =1/(xi - yj))"
   ]
  },
  {
   "cell_type": "code",
   "execution_count": 71,
   "metadata": {},
   "outputs": [
    {
     "data": {
      "text/plain": [
       "array([[-2.        , -0.66666667, -0.4       , -0.28571429, -0.22222222,\n",
       "        -0.18181818, -0.15384615, -0.13333333],\n",
       "       [ 2.        , -2.        , -0.66666667, -0.4       , -0.28571429,\n",
       "        -0.22222222, -0.18181818, -0.15384615],\n",
       "       [ 0.66666667,  2.        , -2.        , -0.66666667, -0.4       ,\n",
       "        -0.28571429, -0.22222222, -0.18181818],\n",
       "       [ 0.4       ,  0.66666667,  2.        , -2.        , -0.66666667,\n",
       "        -0.4       , -0.28571429, -0.22222222],\n",
       "       [ 0.28571429,  0.4       ,  0.66666667,  2.        , -2.        ,\n",
       "        -0.66666667, -0.4       , -0.28571429],\n",
       "       [ 0.22222222,  0.28571429,  0.4       ,  0.66666667,  2.        ,\n",
       "        -2.        , -0.66666667, -0.4       ],\n",
       "       [ 0.18181818,  0.22222222,  0.28571429,  0.4       ,  0.66666667,\n",
       "         2.        , -2.        , -0.66666667],\n",
       "       [ 0.15384615,  0.18181818,  0.22222222,  0.28571429,  0.4       ,\n",
       "         0.66666667,  2.        , -2.        ]])"
      ]
     },
     "execution_count": 71,
     "metadata": {},
     "output_type": "execute_result"
    }
   ],
   "source": [
    "x = np.arange(8)\n",
    "y = x + 0.5\n",
    "1.0 / np.subtract.outer(x, y)"
   ]
  },
  {
   "cell_type": "code",
   "execution_count": 72,
   "metadata": {},
   "outputs": [
    {
     "data": {
      "text/plain": [
       "3638.163637117973"
      ]
     },
     "execution_count": 72,
     "metadata": {},
     "output_type": "execute_result"
    }
   ],
   "source": [
    "np.linalg.det(1.0 / np.subtract.outer(x, y))"
   ]
  },
  {
   "cell_type": "markdown",
   "metadata": {},
   "source": [
    "#### 48. Print the minimum and maximum representable value for each numpy scalar type (★★☆)"
   ]
  },
  {
   "cell_type": "code",
   "execution_count": 73,
   "metadata": {},
   "outputs": [
    {
     "name": "stdout",
     "output_type": "stream",
     "text": [
      "-128\n",
      "127\n",
      "-2147483648\n",
      "2147483647\n",
      "-9223372036854775808\n",
      "9223372036854775807\n"
     ]
    }
   ],
   "source": [
    "for dtype in [np.int8, np.int32, np.int64]:\n",
    "    print(np.iinfo(dtype).min)\n",
    "    print(np.iinfo(dtype).max)"
   ]
  },
  {
   "cell_type": "code",
   "execution_count": 74,
   "metadata": {},
   "outputs": [
    {
     "name": "stdout",
     "output_type": "stream",
     "text": [
      "-3.4028235e+38\n",
      "3.4028235e+38\n",
      "1.1920929e-07\n",
      "-1.7976931348623157e+308\n",
      "1.7976931348623157e+308\n",
      "2.220446049250313e-16\n"
     ]
    }
   ],
   "source": [
    "for dtype in [np.float32, np.float64]:\n",
    "    print(np.finfo(dtype).min)\n",
    "    print(np.finfo(dtype).max)\n",
    "    print(np.finfo(dtype).eps)"
   ]
  },
  {
   "cell_type": "markdown",
   "metadata": {},
   "source": [
    "#### 49. How to print all the values of an array? (★★☆)"
   ]
  },
  {
   "cell_type": "code",
   "execution_count": 75,
   "metadata": {},
   "outputs": [
    {
     "name": "stdout",
     "output_type": "stream",
     "text": [
      "[[ 0.43395835 -1.45222792  1.77422412 -1.54364396 -0.13293386]\n",
      " [ 0.72868926  0.4531494   0.16986104 -1.23304036  0.43038014]\n",
      " [-0.64025636  0.0174167   0.69500641  0.4859137   0.33839369]\n",
      " [-0.67882175  0.12019913 -0.01020891  0.74681551 -0.17381191]\n",
      " [ 0.73217088 -0.58819804 -1.17116773 -1.58480374  0.49170146]]\n"
     ]
    }
   ],
   "source": [
    "np.set_printoptions(threshold=float(\"inf\"))\n",
    "print(np.random.randn(5, 5))"
   ]
  },
  {
   "cell_type": "markdown",
   "metadata": {},
   "source": [
    "#### 50. How to find the closest value (to a given scalar) in a vector? (★★☆)"
   ]
  },
  {
   "cell_type": "code",
   "execution_count": 76,
   "metadata": {},
   "outputs": [
    {
     "name": "stdout",
     "output_type": "stream",
     "text": [
      "0\n"
     ]
    }
   ],
   "source": [
    "z = np.arange(10)\n",
    "v = np.random.uniform(0, 10)\n",
    "print((np.abs(z - v).argmin()))"
   ]
  },
  {
   "cell_type": "markdown",
   "metadata": {},
   "source": [
    "#### 51. Create a structured array representing a position (x,y) and a color (r,g,b) (★★☆)"
   ]
  },
  {
   "cell_type": "code",
   "execution_count": 77,
   "metadata": {},
   "outputs": [
    {
     "name": "stdout",
     "output_type": "stream",
     "text": [
      "[((0., 0.), (0., 0., 0.)) ((0., 0.), (0., 0., 0.))\n",
      " ((0., 0.), (0., 0., 0.)) ((0., 0.), (0., 0., 0.))\n",
      " ((0., 0.), (0., 0., 0.)) ((0., 0.), (0., 0., 0.))\n",
      " ((0., 0.), (0., 0., 0.)) ((0., 0.), (0., 0., 0.))\n",
      " ((0., 0.), (0., 0., 0.)) ((0., 0.), (0., 0., 0.))]\n"
     ]
    },
    {
     "name": "stderr",
     "output_type": "stream",
     "text": [
      "d:\\programdata\\python36\\lib\\site-packages\\ipykernel_launcher.py:5: FutureWarning: Passing (type, 1) or '1type' as a synonym of type is deprecated; in a future version of numpy, it will be understood as (type, (1,)) / '(1,)type'.\n",
      "  \"\"\"\n"
     ]
    }
   ],
   "source": [
    "Z = np.zeros(\n",
    "    10,\n",
    "    [\n",
    "        (\"position\", [(\"x\", float, 1), (\"y\", float, 1)]),\n",
    "        (\"color\", [(\"r\", float, 1), (\"g\", float, 1), (\"b\", float, 1)]),\n",
    "    ],\n",
    ")\n",
    "print(Z)"
   ]
  },
  {
   "cell_type": "markdown",
   "metadata": {},
   "source": [
    "#### 52. Consider a random vector with shape (100,2) representing coordinates, find point by point distances (★★☆)"
   ]
  },
  {
   "cell_type": "code",
   "execution_count": 78,
   "metadata": {},
   "outputs": [
    {
     "data": {
      "text/plain": [
       "array([[0.        , 0.73771372, 0.5184579 , 0.51878861, 0.47725185,\n",
       "        0.91000828, 0.49360477, 0.29783151, 0.19894075, 0.75066328],\n",
       "       [0.73771372, 0.        , 0.53887433, 0.92419456, 0.41105259,\n",
       "        0.38195666, 0.29202233, 0.54475839, 0.62749139, 0.3867084 ],\n",
       "       [0.5184579 , 0.53887433, 0.        , 0.40653382, 0.62737045,\n",
       "        0.47709323, 0.52294319, 0.22551089, 0.57611583, 0.29520244],\n",
       "       [0.51878861, 0.92419456, 0.40653382, 0.        , 0.88023683,\n",
       "        0.87149355, 0.8208156 , 0.41436737, 0.68769124, 0.6916954 ],\n",
       "       [0.47725185, 0.41105259, 0.62737045, 0.88023683, 0.        ,\n",
       "        0.74760469, 0.13461465, 0.47409086, 0.29552303, 0.66780409],\n",
       "       [0.91000828, 0.38195666, 0.47709323, 0.87149355, 0.74760469,\n",
       "        0.        , 0.61345838, 0.62925897, 0.87511764, 0.18193133],\n",
       "       [0.49360477, 0.29202233, 0.52294319, 0.8208156 , 0.13461465,\n",
       "        0.61345838, 0.        , 0.40645325, 0.34805682, 0.53524188],\n",
       "       [0.29783151, 0.54475839, 0.22551089, 0.41436737, 0.47409086,\n",
       "        0.62925897, 0.40645325, 0.        , 0.35741241, 0.46025724],\n",
       "       [0.19894075, 0.62749139, 0.57611583, 0.68769124, 0.29552303,\n",
       "        0.87511764, 0.34805682, 0.35741241, 0.        , 0.74156871],\n",
       "       [0.75066328, 0.3867084 , 0.29520244, 0.6916954 , 0.66780409,\n",
       "        0.18193133, 0.53524188, 0.46025724, 0.74156871, 0.        ]])"
      ]
     },
     "execution_count": 78,
     "metadata": {},
     "output_type": "execute_result"
    }
   ],
   "source": [
    "z = np.random.random((10, 2))\n",
    "x, y = np.atleast_2d(z[:, 0], z[:, 1])\n",
    "np.sqrt((x - x.T)**2 + (y - y.T)**2)"
   ]
  },
  {
   "cell_type": "code",
   "execution_count": 80,
   "metadata": {},
   "outputs": [
    {
     "data": {
      "text/plain": [
       "array([[0.        , 0.73771372, 0.5184579 , 0.51878861, 0.47725185,\n",
       "        0.91000828, 0.49360477, 0.29783151, 0.19894075, 0.75066328],\n",
       "       [0.73771372, 0.        , 0.53887433, 0.92419456, 0.41105259,\n",
       "        0.38195666, 0.29202233, 0.54475839, 0.62749139, 0.3867084 ],\n",
       "       [0.5184579 , 0.53887433, 0.        , 0.40653382, 0.62737045,\n",
       "        0.47709323, 0.52294319, 0.22551089, 0.57611583, 0.29520244],\n",
       "       [0.51878861, 0.92419456, 0.40653382, 0.        , 0.88023683,\n",
       "        0.87149355, 0.8208156 , 0.41436737, 0.68769124, 0.6916954 ],\n",
       "       [0.47725185, 0.41105259, 0.62737045, 0.88023683, 0.        ,\n",
       "        0.74760469, 0.13461465, 0.47409086, 0.29552303, 0.66780409],\n",
       "       [0.91000828, 0.38195666, 0.47709323, 0.87149355, 0.74760469,\n",
       "        0.        , 0.61345838, 0.62925897, 0.87511764, 0.18193133],\n",
       "       [0.49360477, 0.29202233, 0.52294319, 0.8208156 , 0.13461465,\n",
       "        0.61345838, 0.        , 0.40645325, 0.34805682, 0.53524188],\n",
       "       [0.29783151, 0.54475839, 0.22551089, 0.41436737, 0.47409086,\n",
       "        0.62925897, 0.40645325, 0.        , 0.35741241, 0.46025724],\n",
       "       [0.19894075, 0.62749139, 0.57611583, 0.68769124, 0.29552303,\n",
       "        0.87511764, 0.34805682, 0.35741241, 0.        , 0.74156871],\n",
       "       [0.75066328, 0.3867084 , 0.29520244, 0.6916954 , 0.66780409,\n",
       "        0.18193133, 0.53524188, 0.46025724, 0.74156871, 0.        ]])"
      ]
     },
     "execution_count": 80,
     "metadata": {},
     "output_type": "execute_result"
    }
   ],
   "source": [
    "import scipy\n",
    "\n",
    "scipy.spatial.distance.cdist(z, z, metric=\"euclidean\")"
   ]
  },
  {
   "cell_type": "markdown",
   "metadata": {},
   "source": [
    "#### 53. How to convert a float (32 bits) array into an integer (32 bits) in place?"
   ]
  },
  {
   "cell_type": "code",
   "execution_count": 86,
   "metadata": {},
   "outputs": [
    {
     "name": "stdout",
     "output_type": "stream",
     "text": [
      "[5743.1587 9128.959  5413.611  8200.658  4195.599  7516.528   843.2891\n",
      " 8104.2827 1215.9498 3682.4722]\n",
      "[5743 9128 5413 8200 4195 7516  843 8104 1215 3682]\n"
     ]
    }
   ],
   "source": [
    "z = (np.random.rand(10) * 10000).astype(np.float32)\n",
    "print(z)\n",
    "\n",
    "y = z.view(np.int32, type=type(z))\n",
    "y[:] = z\n",
    "print(y)"
   ]
  },
  {
   "cell_type": "markdown",
   "metadata": {},
   "source": [
    "#### 54. How to read the following file? (★★☆)\n",
    "```\n",
    "1, 2, 3, 4, 5\n",
    "6,  ,  , 7, 8\n",
    " ,  , 9,10,11\n",
    "```"
   ]
  },
  {
   "cell_type": "code",
   "execution_count": 88,
   "metadata": {},
   "outputs": [
    {
     "name": "stdout",
     "output_type": "stream",
     "text": [
      "[[ 1  2  3  4  5]\n",
      " [ 6 -1 -1  7  8]\n",
      " [-1 -1  9 10 11]]\n"
     ]
    }
   ],
   "source": [
    "from io import StringIO\n",
    "\n",
    "s = StringIO(\"\"\"1, 2, 3, 4, 5\n",
    "\n",
    "                6,  ,  , 7, 8\n",
    "\n",
    "                 ,  , 9,10,11\n",
    "            \"\"\")\n",
    "z = np.genfromtxt(s, delimiter=\",\", dtype=np.int)\n",
    "print(z)"
   ]
  },
  {
   "cell_type": "markdown",
   "metadata": {},
   "source": [
    "#### 55. What is the equivalent of enumerate for numpy arrays? (★★☆)"
   ]
  },
  {
   "cell_type": "code",
   "execution_count": 89,
   "metadata": {},
   "outputs": [
    {
     "name": "stdout",
     "output_type": "stream",
     "text": [
      "(0, 0) 0\n",
      "(0, 1) 1\n",
      "(0, 2) 2\n",
      "(1, 0) 3\n",
      "(1, 1) 4\n",
      "(1, 2) 5\n",
      "(2, 0) 6\n",
      "(2, 1) 7\n",
      "(2, 2) 8\n"
     ]
    }
   ],
   "source": [
    "z = np.arange(9).reshape(3, 3)\n",
    "for index, value in np.ndenumerate(z):\n",
    "    print(index, value)"
   ]
  },
  {
   "cell_type": "code",
   "execution_count": 91,
   "metadata": {},
   "outputs": [
    {
     "name": "stdout",
     "output_type": "stream",
     "text": [
      "(0, 0) 0\n",
      "(0, 1) 1\n",
      "(0, 2) 2\n",
      "(1, 0) 3\n",
      "(1, 1) 4\n",
      "(1, 2) 5\n",
      "(2, 0) 6\n",
      "(2, 1) 7\n",
      "(2, 2) 8\n"
     ]
    }
   ],
   "source": [
    "for idx in np.ndindex(z.shape):\n",
    "    print(idx, z[idx])"
   ]
  },
  {
   "cell_type": "markdown",
   "metadata": {},
   "source": [
    "#### 56. Generate a generic 2D Gaussian-like array (★★☆)"
   ]
  },
  {
   "cell_type": "code",
   "execution_count": 92,
   "metadata": {},
   "outputs": [
    {
     "name": "stdout",
     "output_type": "stream",
     "text": [
      "[[0.36787944 0.44822088 0.51979489 0.57375342 0.60279818 0.60279818\n",
      "  0.57375342 0.51979489 0.44822088 0.36787944]\n",
      " [0.44822088 0.54610814 0.63331324 0.69905581 0.73444367 0.73444367\n",
      "  0.69905581 0.63331324 0.54610814 0.44822088]\n",
      " [0.51979489 0.63331324 0.73444367 0.81068432 0.85172308 0.85172308\n",
      "  0.81068432 0.73444367 0.63331324 0.51979489]\n",
      " [0.57375342 0.69905581 0.81068432 0.89483932 0.9401382  0.9401382\n",
      "  0.89483932 0.81068432 0.69905581 0.57375342]\n",
      " [0.60279818 0.73444367 0.85172308 0.9401382  0.98773022 0.98773022\n",
      "  0.9401382  0.85172308 0.73444367 0.60279818]\n",
      " [0.60279818 0.73444367 0.85172308 0.9401382  0.98773022 0.98773022\n",
      "  0.9401382  0.85172308 0.73444367 0.60279818]\n",
      " [0.57375342 0.69905581 0.81068432 0.89483932 0.9401382  0.9401382\n",
      "  0.89483932 0.81068432 0.69905581 0.57375342]\n",
      " [0.51979489 0.63331324 0.73444367 0.81068432 0.85172308 0.85172308\n",
      "  0.81068432 0.73444367 0.63331324 0.51979489]\n",
      " [0.44822088 0.54610814 0.63331324 0.69905581 0.73444367 0.73444367\n",
      "  0.69905581 0.63331324 0.54610814 0.44822088]\n",
      " [0.36787944 0.44822088 0.51979489 0.57375342 0.60279818 0.60279818\n",
      "  0.57375342 0.51979489 0.44822088 0.36787944]]\n"
     ]
    }
   ],
   "source": [
    "x, y = np.meshgrid(np.linspace(-1, 1, 10), np.linspace(-1, 1, 10))\n",
    "D = np.sqrt(x * x + y * y)\n",
    "sigma, mu = 1.0, 0.0\n",
    "g = np.exp(-((D - mu)**2 / (2 * sigma**2)))\n",
    "print(g)"
   ]
  },
  {
   "cell_type": "markdown",
   "metadata": {},
   "source": [
    "#### 57. How to randomly place p elements in a 2D array? (★★☆)"
   ]
  },
  {
   "cell_type": "code",
   "execution_count": 96,
   "metadata": {},
   "outputs": [
    {
     "name": "stdout",
     "output_type": "stream",
     "text": [
      "[[1. 1. 1. 0. 0. 0. 0. 0. 1. 0.]\n",
      " [0. 1. 0. 0. 0. 0. 0. 0. 0. 0.]\n",
      " [1. 1. 1. 0. 0. 0. 0. 0. 0. 0.]\n",
      " [0. 1. 0. 0. 0. 0. 0. 0. 0. 0.]\n",
      " [0. 1. 0. 0. 0. 0. 0. 0. 0. 1.]\n",
      " [1. 0. 0. 0. 0. 0. 0. 0. 0. 0.]\n",
      " [0. 0. 0. 0. 1. 0. 1. 0. 0. 0.]\n",
      " [0. 0. 0. 1. 0. 0. 1. 0. 0. 0.]\n",
      " [0. 1. 0. 0. 0. 0. 0. 0. 1. 0.]\n",
      " [1. 1. 0. 0. 0. 0. 0. 0. 0. 0.]]\n"
     ]
    }
   ],
   "source": [
    "z = np.zeros((10, 10))\n",
    "np.put(z, np.random.choice(range(10 * 10), 20, replace=False), 1)\n",
    "print(z)"
   ]
  },
  {
   "cell_type": "markdown",
   "metadata": {},
   "source": [
    "#### 58. Subtract the mean of each row of a matrix (★★☆)"
   ]
  },
  {
   "cell_type": "code",
   "execution_count": 97,
   "metadata": {},
   "outputs": [
    {
     "name": "stdout",
     "output_type": "stream",
     "text": [
      "[[0.06817891 0.36785774 0.98794766 0.36797614 0.02534362 0.30755075\n",
      "  0.08750639 0.52150229 0.71778408 0.02371964]\n",
      " [0.83196475 0.84426568 0.29926043 0.27370629 0.62280282 0.38217743\n",
      "  0.90964257 0.57825694 0.7325788  0.92310839]\n",
      " [0.91549932 0.74203787 0.8336881  0.77378759 0.32699015 0.18258766\n",
      "  0.51151619 0.84931221 0.42653961 0.65663395]\n",
      " [0.54345018 0.16575324 0.58372338 0.82182696 0.59262925 0.03595183\n",
      "  0.23439327 0.12770884 0.56962655 0.91851014]\n",
      " [0.59349399 0.75657278 0.23603692 0.19451442 0.03396893 0.88419196\n",
      "  0.35098615 0.44024221 0.86849935 0.29588152]]\n",
      "[[-0.27935781  0.02032101  0.64041094  0.02043942 -0.3221931  -0.03998597\n",
      "  -0.26003034  0.17396557  0.37024736 -0.32381709]\n",
      " [ 0.19218834  0.20448927 -0.34051598 -0.36607012 -0.01697359 -0.25759898\n",
      "   0.26986616 -0.06151947  0.09280239  0.28333198]\n",
      " [ 0.29364006  0.1201786   0.21182884  0.15192832 -0.29486912 -0.4392716\n",
      "  -0.11034307  0.22745295 -0.19531966  0.03477468]\n",
      " [ 0.08409282 -0.29360412  0.12436602  0.3624696   0.13327188 -0.42340553\n",
      "  -0.22496409 -0.33164852  0.11026919  0.45915277]\n",
      " [ 0.12805517  0.29113396 -0.2294019  -0.2709244  -0.43146989  0.41875313\n",
      "  -0.11445267 -0.02519662  0.40306052 -0.1695573 ]]\n"
     ]
    }
   ],
   "source": [
    "z = np.random.rand(5, 10)\n",
    "print(z)\n",
    "z -= z.mean(axis=1, keepdims=True)\n",
    "print(z)"
   ]
  },
  {
   "cell_type": "markdown",
   "metadata": {},
   "source": [
    "#### 59. How to sort an array by the nth column? (★★☆)"
   ]
  },
  {
   "cell_type": "code",
   "execution_count": 100,
   "metadata": {},
   "outputs": [
    {
     "data": {
      "text/plain": [
       "array([[0, 0, 0],\n",
       "       [9, 3, 8],\n",
       "       [2, 4, 1]])"
      ]
     },
     "execution_count": 100,
     "metadata": {},
     "output_type": "execute_result"
    }
   ],
   "source": [
    "z = np.random.randint(0, 10, (3, 3))\n",
    "z[z[:, 1].argsort()]"
   ]
  },
  {
   "cell_type": "markdown",
   "metadata": {},
   "source": [
    "#### 60. How to tell if a given 2D array has null columns? (★★☆)"
   ]
  },
  {
   "cell_type": "code",
   "execution_count": 102,
   "metadata": {},
   "outputs": [
    {
     "data": {
      "text/plain": [
       "False"
      ]
     },
     "execution_count": 102,
     "metadata": {},
     "output_type": "execute_result"
    }
   ],
   "source": [
    "z = np.random.randint(0, 10, (3, 3))\n",
    "\n",
    "(~z.any(axis=0)).any()"
   ]
  },
  {
   "cell_type": "markdown",
   "metadata": {},
   "source": [
    "#### 61. Find the nearest value from a given value in an array (★★☆)"
   ]
  },
  {
   "cell_type": "code",
   "execution_count": 106,
   "metadata": {},
   "outputs": [
    {
     "name": "stdout",
     "output_type": "stream",
     "text": [
      "[[7 8 2]\n",
      " [8 7 0]\n",
      " [5 4 5]]\n"
     ]
    },
    {
     "data": {
      "text/plain": [
       "5"
      ]
     },
     "execution_count": 106,
     "metadata": {},
     "output_type": "execute_result"
    }
   ],
   "source": [
    "z = np.random.randint(0, 10, (3, 3))\n",
    "print(z)\n",
    "v = 5\n",
    "z.flat[np.abs(z - v).argmin()]"
   ]
  },
  {
   "cell_type": "markdown",
   "metadata": {},
   "source": [
    "#### 62. Considering two arrays with shape (1,3) and (3,1), how to compute their sum using an iterator? (★★☆)"
   ]
  },
  {
   "cell_type": "code",
   "execution_count": 31,
   "metadata": {},
   "outputs": [],
   "source": [
    "a = np.arange(3).reshape(3, 1)\n",
    "b = np.arange(3).reshape(1, 3)\n",
    "\n",
    "it = np.nditer([a, b, None])\n",
    "for x, y, z in it:\n",
    "    z[...] = x + y"
   ]
  },
  {
   "cell_type": "code",
   "execution_count": 33,
   "metadata": {},
   "outputs": [
    {
     "data": {
      "text/plain": [
       "array([[0, 1, 2],\n",
       "       [1, 2, 3],\n",
       "       [2, 3, 4]])"
      ]
     },
     "execution_count": 33,
     "metadata": {},
     "output_type": "execute_result"
    }
   ],
   "source": [
    "it.operands[2]"
   ]
  },
  {
   "cell_type": "markdown",
   "metadata": {},
   "source": [
    "#### 63. Create an array class that has a name attribute (★★☆)"
   ]
  },
  {
   "cell_type": "code",
   "execution_count": 34,
   "metadata": {},
   "outputs": [],
   "source": [
    "class NamedArray(np.ndarray):\n",
    "\n",
    "    def __new__(cls, array, name=\"no name\"):\n",
    "        obj = np.asarray(array).view(cls)\n",
    "        obj.name = name\n",
    "        return obj\n",
    "\n",
    "    def __array_finalize__(self, obj):\n",
    "        if obj is None:\n",
    "            return\n",
    "        self.info = getattr(obj, \"name\", \"no name\")"
   ]
  },
  {
   "cell_type": "code",
   "execution_count": 35,
   "metadata": {},
   "outputs": [
    {
     "name": "stdout",
     "output_type": "stream",
     "text": [
      "range_10\n"
     ]
    }
   ],
   "source": [
    "z = NamedArray(np.arange(10), \"range_10\")\n",
    "print(z.name)"
   ]
  },
  {
   "cell_type": "markdown",
   "metadata": {},
   "source": [
    "#### 64. Consider a given vector, how to add 1 to each element indexed by a second vector (be careful with repeated indices)? (★★★)"
   ]
  },
  {
   "cell_type": "code",
   "execution_count": 41,
   "metadata": {},
   "outputs": [
    {
     "name": "stdout",
     "output_type": "stream",
     "text": [
      "[1. 1. 1. 1. 1. 1. 1. 1. 1. 1.]\n",
      "[3 4 3 5 1 2 4 2 9 7 0 3 3 4 1 1 1 0 0 3]\n"
     ]
    }
   ],
   "source": [
    "z = np.ones(10)\n",
    "i = np.random.randint(0, len(z), 20)  # i中数字出现一次，z中index对应加一\n",
    "\n",
    "print(z)\n",
    "print(i)"
   ]
  },
  {
   "cell_type": "code",
   "execution_count": 42,
   "metadata": {},
   "outputs": [
    {
     "data": {
      "text/plain": [
       "array([4., 5., 3., 6., 4., 2., 1., 2., 1., 2.])"
      ]
     },
     "execution_count": 42,
     "metadata": {},
     "output_type": "execute_result"
    }
   ],
   "source": [
    "z + np.bincount(i, minlength=len(z))"
   ]
  },
  {
   "cell_type": "code",
   "execution_count": 43,
   "metadata": {},
   "outputs": [
    {
     "name": "stdout",
     "output_type": "stream",
     "text": [
      "[4. 5. 3. 6. 4. 2. 1. 2. 1. 2.]\n"
     ]
    }
   ],
   "source": [
    "np.add.at(z, i, 1)\n",
    "print(z)"
   ]
  },
  {
   "cell_type": "markdown",
   "metadata": {},
   "source": [
    "#### 65. How to accumulate elements of a vector (X) to an array (F) based on an index list (I)? (★★★)"
   ]
  },
  {
   "cell_type": "code",
   "execution_count": 44,
   "metadata": {},
   "outputs": [
    {
     "data": {
      "text/plain": [
       "array([0., 1., 0., 6., 5., 0., 0., 0., 0., 3.])"
      ]
     },
     "execution_count": 44,
     "metadata": {},
     "output_type": "execute_result"
    }
   ],
   "source": [
    "x = [1, 2, 3, 4, 5]  # weight\n",
    "i = [1, 3, 9, 3, 4]  # 长度为9的bin array计数的对象，注意乘上weight\n",
    "\n",
    "np.bincount(i, x)"
   ]
  },
  {
   "cell_type": "markdown",
   "metadata": {},
   "source": [
    "#### 66. Considering a (w,h,3) image of (dtype=ubyte), compute the number of unique colors (★★★)"
   ]
  },
  {
   "cell_type": "code",
   "execution_count": 45,
   "metadata": {},
   "outputs": [
    {
     "name": "stdout",
     "output_type": "stream",
     "text": [
      "[  0   1   2   3   4   5   6   7   8   9  10  11  12  13  14  15  16  17\n",
      "  18  19  20  21  22  23  24  25  27  28  29  30  31  32  33  34  35  36\n",
      "  37  38  39  40  41  43  44  45  46  47  48  49  50  51  52  53  54  55\n",
      "  56  57  58  59  60  61  62  63  65  66  67  68  69  70  71  72  73  74\n",
      "  75  76  77  78  79  80  81  82  83  84  85  86  87  88  90  91  92  93\n",
      "  94  95  96  97  98  99 100 101 102 103 104 105 106 108 109 110 111 112\n",
      " 113 114 115 116 117 118 119 120 121 122 123 124 125 126 127 128 129 130\n",
      " 131 132 133 134 135 136 137 138 139 140 141 142 143 144 145 146 147 148\n",
      " 149 150 151 152 153 154 155 156 157 158 159 160 161 162 163 164 165 166\n",
      " 167 168 169 170 171 172 173 174 176 177 178 179 180 181 182 183 184 185\n",
      " 186 187 188 189 190 191 192 193 194 196 197 198 199 200 201 202 203 204\n",
      " 205 206 207 208 209 210 211 212 213 214 215 217 218 219 220 221 222 223\n",
      " 224 225 226 228 229 230 231 232 233 234 235 236 237 238 239 240 241 242\n",
      " 243 244 245 246 247 248 249 250 251 252 253 254 255]\n"
     ]
    }
   ],
   "source": [
    "w, h = 16, 16\n",
    "I = np.random.randint(0, 256, (h, w, 3)).astype(np.ubyte)\n",
    "F = I[..., 0] * 256 * 256 + I[..., 1] * 256 + I[..., 2]\n",
    "\n",
    "print(np.unique(I))"
   ]
  },
  {
   "cell_type": "code",
   "execution_count": 46,
   "metadata": {},
   "outputs": [
    {
     "name": "stdout",
     "output_type": "stream",
     "text": [
      "[  0   1   2   3   4   5   6   7   8   9  10  11  12  13  14  15  16  17\n",
      "  18  19  20  21  22  23  24  25  27  28  29  30  31  32  33  34  35  36\n",
      "  37  38  39  40  41  43  44  45  46  47  48  49  50  51  52  53  54  55\n",
      "  56  57  58  59  60  61  62  63  65  66  67  68  69  70  71  72  73  74\n",
      "  75  76  77  78  79  80  81  82  83  84  85  86  87  88  90  91  92  93\n",
      "  94  95  96  97  98  99 100 101 102 103 104 105 106 108 109 110 111 112\n",
      " 113 114 115 116 117 118 119 120 121 122 123 124 125 126 127 128 129 130\n",
      " 131 132 133 134 135 136 137 138 139 140 141 142 143 144 145 146 147 148\n",
      " 149 150 151 152 153 154 155 156 157 158 159 160 161 162 163 164 165 166\n",
      " 167 168 169 170 171 172 173 174 176 177 178 179 180 181 182 183 184 185\n",
      " 186 187 188 189 190 191 192 193 194 196 197 198 199 200 201 202 203 204\n",
      " 205 206 207 208 209 210 211 212 213 214 215 217 218 219 220 221 222 223\n",
      " 224 225 226 228 229 230 231 232 233 234 235 236 237 238 239 240 241 242\n",
      " 243 244 245 246 247 248 249 250 251 252 253 254 255]\n"
     ]
    }
   ],
   "source": [
    "F = I[..., 0] << 16 + I[..., 1] << 8 + I[..., 2]\n",
    "\n",
    "print(np.unique(I))"
   ]
  },
  {
   "cell_type": "markdown",
   "metadata": {},
   "source": [
    "#### 67. Considering a four dimensions array, how to get sum over the last two axis at once? (★★★)"
   ]
  },
  {
   "cell_type": "code",
   "execution_count": 49,
   "metadata": {},
   "outputs": [
    {
     "name": "stdout",
     "output_type": "stream",
     "text": [
      "[[[[0 6 2 8]\n",
      "   [3 0 0 8]\n",
      "   [7 4 7 3]]\n",
      "\n",
      "  [[8 7 4 7]\n",
      "   [6 7 9 8]\n",
      "   [8 8 9 9]]\n",
      "\n",
      "  [[6 7 9 0]\n",
      "   [0 5 8 9]\n",
      "   [9 8 0 1]]\n",
      "\n",
      "  [[4 6 0 2]\n",
      "   [4 5 8 6]\n",
      "   [8 9 6 8]]]\n",
      "\n",
      "\n",
      " [[[9 4 5 2]\n",
      "   [6 1 6 6]\n",
      "   [3 1 0 0]]\n",
      "\n",
      "  [[8 4 2 6]\n",
      "   [7 0 0 7]\n",
      "   [1 5 5 8]]\n",
      "\n",
      "  [[1 4 9 3]\n",
      "   [2 1 5 2]\n",
      "   [5 2 3 0]]\n",
      "\n",
      "  [[3 7 6 6]\n",
      "   [8 2 9 8]\n",
      "   [8 3 4 1]]]\n",
      "\n",
      "\n",
      " [[[5 0 2 3]\n",
      "   [5 3 4 4]\n",
      "   [9 5 5 2]]\n",
      "\n",
      "  [[0 2 0 3]\n",
      "   [6 4 8 5]\n",
      "   [5 2 8 6]]\n",
      "\n",
      "  [[8 5 1 5]\n",
      "   [1 7 1 2]\n",
      "   [9 5 6 6]]\n",
      "\n",
      "  [[2 5 3 6]\n",
      "   [9 5 8 7]\n",
      "   [8 5 0 7]]]]\n"
     ]
    }
   ],
   "source": [
    "A = np.random.randint(0, 10, (3, 4, 3, 4))\n",
    "\n",
    "A.sum(axis=(-2, -1))\n",
    "print(A)"
   ]
  },
  {
   "cell_type": "markdown",
   "metadata": {},
   "source": [
    "#### 68. Considering a one-dimensional vector D, how to compute means of subsets of D using a vector S of same size describing subset  indices? (★★★)"
   ]
  },
  {
   "cell_type": "code",
   "execution_count": 50,
   "metadata": {},
   "outputs": [
    {
     "name": "stdout",
     "output_type": "stream",
     "text": [
      "[0.49011505 0.41078074 0.48585995 0.46265258 0.36967635 0.52376235\n",
      " 0.33658622 0.52229719 0.35699286 0.49113063]\n"
     ]
    }
   ],
   "source": [
    "D = np.random.uniform(0, 1, 100)\n",
    "S = np.random.randint(0, 10, 100)\n",
    "D_sums = np.bincount(S, weights=D)  # 根据S中的不同值，分组对D中对应index元素求和\n",
    "D_counts = np.bincount(S)\n",
    "D_means = D_sums / D_counts\n",
    "print(D_means)"
   ]
  },
  {
   "cell_type": "code",
   "execution_count": 53,
   "metadata": {},
   "outputs": [
    {
     "data": {
      "text/plain": [
       "array([3, 2, 6, 9, 4, 9, 1, 5, 9, 8, 6, 6, 1, 0, 2, 7, 6, 6, 3, 5, 5, 9,\n",
       "       3, 8, 6, 0, 0, 5, 4, 7, 0, 4, 0, 7, 8, 9, 7, 8, 4, 4, 7, 3, 0, 0,\n",
       "       3, 6, 9, 2, 1, 0, 0, 1, 1, 9, 7, 0, 6, 1, 1, 2, 5, 3, 5, 0, 9, 6,\n",
       "       5, 6, 2, 4, 0, 6, 7, 9, 5, 7, 2, 8, 9, 9, 7, 0, 8, 8, 9, 1, 0, 3,\n",
       "       7, 0, 2, 6, 2, 6, 7, 2, 6, 9, 4, 7])"
      ]
     },
     "execution_count": 53,
     "metadata": {},
     "output_type": "execute_result"
    }
   ],
   "source": [
    "S"
   ]
  },
  {
   "cell_type": "code",
   "execution_count": 54,
   "metadata": {},
   "outputs": [
    {
     "data": {
      "text/plain": [
       "array([15,  8,  9,  7,  7,  8, 14, 12,  7, 13], dtype=int64)"
      ]
     },
     "execution_count": 54,
     "metadata": {},
     "output_type": "execute_result"
    }
   ],
   "source": [
    "np.bincount(S, weights=None)"
   ]
  },
  {
   "cell_type": "code",
   "execution_count": 55,
   "metadata": {},
   "outputs": [
    {
     "name": "stdout",
     "output_type": "stream",
     "text": [
      "0    0.490115\n",
      "1    0.410781\n",
      "2    0.485860\n",
      "3    0.462653\n",
      "4    0.369676\n",
      "5    0.523762\n",
      "6    0.336586\n",
      "7    0.522297\n",
      "8    0.356993\n",
      "9    0.491131\n",
      "dtype: float64\n"
     ]
    }
   ],
   "source": [
    "# pandas 方式\n",
    "import pandas as pd\n",
    "\n",
    "print(pd.Series(D).groupby(S).mean())"
   ]
  },
  {
   "cell_type": "markdown",
   "metadata": {},
   "source": [
    "#### 69. How to get the diagonal of a dot product? (★★★)"
   ]
  },
  {
   "cell_type": "code",
   "execution_count": 56,
   "metadata": {},
   "outputs": [
    {
     "data": {
      "text/plain": [
       "array([0.67498024, 1.25507745, 1.06745788, 0.92332666, 1.62831896])"
      ]
     },
     "execution_count": 56,
     "metadata": {},
     "output_type": "execute_result"
    }
   ],
   "source": [
    "A = np.random.uniform(0, 1, (5, 5))\n",
    "B = np.random.uniform(0, 1, (5, 5))\n",
    "\n",
    "# slower\n",
    "np.diag(np.dot(A, B))"
   ]
  },
  {
   "cell_type": "code",
   "execution_count": 57,
   "metadata": {},
   "outputs": [
    {
     "data": {
      "text/plain": [
       "array([0.67498024, 1.25507745, 1.06745788, 0.92332666, 1.62831896])"
      ]
     },
     "execution_count": 57,
     "metadata": {},
     "output_type": "execute_result"
    }
   ],
   "source": [
    "# faster\n",
    "np.sum(A * B.T, axis=1)"
   ]
  },
  {
   "cell_type": "code",
   "execution_count": 58,
   "metadata": {},
   "outputs": [
    {
     "data": {
      "text/plain": [
       "array([0.67498024, 1.25507745, 1.06745788, 0.92332666, 1.62831896])"
      ]
     },
     "execution_count": 58,
     "metadata": {},
     "output_type": "execute_result"
    }
   ],
   "source": [
    "# and more\n",
    "np.einsum(\"ij,ji->i\", A, B)"
   ]
  },
  {
   "cell_type": "markdown",
   "metadata": {},
   "source": [
    "#### 70. Consider the vector [1, 2, 3, 4, 5], how to build a new vector with 3 consecutive zeros interleaved between each value? (★★★)"
   ]
  },
  {
   "cell_type": "code",
   "execution_count": 60,
   "metadata": {},
   "outputs": [
    {
     "data": {
      "text/plain": [
       "array([1., 0., 0., 0., 2., 0., 0., 0., 3., 0., 0., 0., 4., 0., 0., 0., 5.])"
      ]
     },
     "execution_count": 60,
     "metadata": {},
     "output_type": "execute_result"
    }
   ],
   "source": [
    "Z = np.array([1, 2, 3, 4, 5])\n",
    "nz = 3\n",
    "Z0 = np.zeros(len(Z) + (len(Z) - 1) * (nz))\n",
    "\n",
    "Z0[::nz + 1] = Z\n",
    "Z0"
   ]
  },
  {
   "cell_type": "markdown",
   "metadata": {},
   "source": [
    "#### 71. Consider an array of dimension (5,5,3), how to mulitply it by an array with dimensions (5,5)? (★★★)"
   ]
  },
  {
   "cell_type": "code",
   "execution_count": 61,
   "metadata": {},
   "outputs": [
    {
     "data": {
      "text/plain": [
       "array([[[2., 2., 2.],\n",
       "        [2., 2., 2.],\n",
       "        [2., 2., 2.],\n",
       "        [2., 2., 2.],\n",
       "        [2., 2., 2.]],\n",
       "\n",
       "       [[2., 2., 2.],\n",
       "        [2., 2., 2.],\n",
       "        [2., 2., 2.],\n",
       "        [2., 2., 2.],\n",
       "        [2., 2., 2.]],\n",
       "\n",
       "       [[2., 2., 2.],\n",
       "        [2., 2., 2.],\n",
       "        [2., 2., 2.],\n",
       "        [2., 2., 2.],\n",
       "        [2., 2., 2.]],\n",
       "\n",
       "       [[2., 2., 2.],\n",
       "        [2., 2., 2.],\n",
       "        [2., 2., 2.],\n",
       "        [2., 2., 2.],\n",
       "        [2., 2., 2.]],\n",
       "\n",
       "       [[2., 2., 2.],\n",
       "        [2., 2., 2.],\n",
       "        [2., 2., 2.],\n",
       "        [2., 2., 2.],\n",
       "        [2., 2., 2.]]])"
      ]
     },
     "execution_count": 61,
     "metadata": {},
     "output_type": "execute_result"
    }
   ],
   "source": [
    "A = np.ones((5, 5, 3))\n",
    "B = 2 * np.ones((5, 5))\n",
    "\n",
    "A * B[:, :, None]"
   ]
  },
  {
   "cell_type": "markdown",
   "metadata": {},
   "source": [
    "#### 72. How to swap two rows of an array? (★★★)"
   ]
  },
  {
   "cell_type": "code",
   "execution_count": 62,
   "metadata": {},
   "outputs": [],
   "source": [
    "A = np.arange(25).reshape(5, 5)\n",
    "\n",
    "A[[0, 1]] = A[[1, 0]]"
   ]
  },
  {
   "cell_type": "markdown",
   "metadata": {},
   "source": [
    "#### 73. Consider a set of 10 triplets describing 10 triangles (with shared vertices), find the set of unique line segments composing all the  triangles (★★★)"
   ]
  },
  {
   "cell_type": "code",
   "execution_count": 63,
   "metadata": {},
   "outputs": [],
   "source": [
    "faces = np.random.randint(0, 100, (10, 3))"
   ]
  },
  {
   "cell_type": "code",
   "execution_count": 64,
   "metadata": {},
   "outputs": [
    {
     "data": {
      "text/plain": [
       "array([[93, 37, 24],\n",
       "       [86, 19, 76],\n",
       "       [86, 70, 64],\n",
       "       [65, 10, 68],\n",
       "       [52, 46,  1],\n",
       "       [89, 48, 61],\n",
       "       [41, 92, 38],\n",
       "       [42, 89, 17],\n",
       "       [57, 24, 85],\n",
       "       [35, 64, 99]])"
      ]
     },
     "execution_count": 64,
     "metadata": {},
     "output_type": "execute_result"
    }
   ],
   "source": [
    "faces"
   ]
  },
  {
   "cell_type": "code",
   "execution_count": 65,
   "metadata": {},
   "outputs": [],
   "source": [
    "F = np.roll(faces.repeat(2, axis=1), -1, axis=1)"
   ]
  },
  {
   "cell_type": "code",
   "execution_count": 66,
   "metadata": {},
   "outputs": [
    {
     "data": {
      "text/plain": [
       "array([[93, 37, 37, 24, 24, 93],\n",
       "       [86, 19, 19, 76, 76, 86],\n",
       "       [86, 70, 70, 64, 64, 86],\n",
       "       [65, 10, 10, 68, 68, 65],\n",
       "       [52, 46, 46,  1,  1, 52],\n",
       "       [89, 48, 48, 61, 61, 89],\n",
       "       [41, 92, 92, 38, 38, 41],\n",
       "       [42, 89, 89, 17, 17, 42],\n",
       "       [57, 24, 24, 85, 85, 57],\n",
       "       [35, 64, 64, 99, 99, 35]])"
      ]
     },
     "execution_count": 66,
     "metadata": {},
     "output_type": "execute_result"
    }
   ],
   "source": [
    "F"
   ]
  },
  {
   "cell_type": "code",
   "execution_count": 67,
   "metadata": {},
   "outputs": [],
   "source": [
    "F = F.reshape(len(F) * 3, 2)\n",
    "F = np.sort(F, axis=1)\n",
    "G = F.view(dtype=[(\"p0\", F.dtype), (\"p1\", F.dtype)])\n",
    "G = np.unique(G)"
   ]
  },
  {
   "cell_type": "code",
   "execution_count": 68,
   "metadata": {},
   "outputs": [
    {
     "data": {
      "text/plain": [
       "array([( 1, 46), ( 1, 52), (10, 65), (10, 68), (17, 42), (17, 89),\n",
       "       (19, 76), (19, 86), (24, 37), (24, 57), (24, 85), (24, 93),\n",
       "       (35, 64), (35, 99), (37, 93), (38, 41), (38, 92), (41, 92),\n",
       "       (42, 89), (46, 52), (48, 61), (48, 89), (57, 85), (61, 89),\n",
       "       (64, 70), (64, 86), (64, 99), (65, 68), (70, 86), (76, 86)],\n",
       "      dtype=[('p0', '<i4'), ('p1', '<i4')])"
      ]
     },
     "execution_count": 68,
     "metadata": {},
     "output_type": "execute_result"
    }
   ],
   "source": [
    "G"
   ]
  },
  {
   "cell_type": "markdown",
   "metadata": {},
   "source": [
    "#### 74. Given a sorted array C that corresponds to a bincount, how to produce an array A such that np.bincount(A) == C? (★★★)"
   ]
  },
  {
   "cell_type": "code",
   "execution_count": 69,
   "metadata": {},
   "outputs": [
    {
     "name": "stdout",
     "output_type": "stream",
     "text": [
      "[1 1 2 3 4 4 6]\n"
     ]
    }
   ],
   "source": [
    "C = np.bincount([1, 1, 2, 3, 4, 4, 6])\n",
    "\n",
    "A = np.repeat(np.arange(len(C)), C)\n",
    "\n",
    "print(A)"
   ]
  },
  {
   "cell_type": "markdown",
   "metadata": {},
   "source": [
    "#### 75. How to compute averages using a sliding window over an array? (★★★)"
   ]
  },
  {
   "cell_type": "code",
   "execution_count": 70,
   "metadata": {},
   "outputs": [],
   "source": [
    "def moving_average(a, n=3):\n",
    "    ret = np.cumsum(a, dtype=float)\n",
    "    ret[n:] = ret[n:] - ret[:-n]\n",
    "    return ret[n - 1:] / n"
   ]
  },
  {
   "cell_type": "code",
   "execution_count": 71,
   "metadata": {},
   "outputs": [
    {
     "name": "stdout",
     "output_type": "stream",
     "text": [
      "[ 1.  2.  3.  4.  5.  6.  7.  8.  9. 10. 11. 12. 13. 14. 15. 16. 17. 18.]\n"
     ]
    }
   ],
   "source": [
    "Z = np.arange(20)\n",
    "print(moving_average(Z, n=3))"
   ]
  },
  {
   "cell_type": "markdown",
   "metadata": {},
   "source": [
    "#### 76. Consider a one-dimensional array Z, build a two-dimensional array whose first row is (Z[0],Z[1],Z[2]) and each subsequent row is  shifted by 1 (last row should be (Z[-3],Z[-2],Z[-1]) (★★★)"
   ]
  },
  {
   "cell_type": "code",
   "execution_count": 7,
   "metadata": {},
   "outputs": [],
   "source": [
    "from numpy.lib import stride_tricks\n",
    "\n",
    "\n",
    "def rolling(a, window):\n",
    "    shape = (a.size - window + 1, window)\n",
    "    strides = (a.itemsize, a.itemsize)  # itemsize:单个数据占用内存大小\n",
    "    return stride_tricks.as_strided(a, shape=shape, strides=strides)"
   ]
  },
  {
   "cell_type": "code",
   "execution_count": 9,
   "metadata": {},
   "outputs": [
    {
     "name": "stdout",
     "output_type": "stream",
     "text": [
      "[[0 1 2]\n",
      " [1 2 3]\n",
      " [2 3 4]\n",
      " [3 4 5]\n",
      " [4 5 6]\n",
      " [5 6 7]\n",
      " [6 7 8]\n",
      " [7 8 9]]\n"
     ]
    }
   ],
   "source": [
    "Z = rolling(np.arange(10), 3)\n",
    "print(Z)"
   ]
  },
  {
   "cell_type": "markdown",
   "metadata": {},
   "source": [
    "#### 77. How to negate a boolean, or to change the sign of a float inplace? (★★★)"
   ]
  },
  {
   "cell_type": "code",
   "execution_count": 10,
   "metadata": {},
   "outputs": [
    {
     "data": {
      "text/plain": [
       "array([0, 0, 1, 0, 1, 1, 0, 0, 1, 1, 0, 1, 1, 1, 1, 1, 0, 1, 0, 1, 1, 0,\n",
       "       0, 1, 1, 0, 0, 1, 1, 1, 1, 0, 0, 1, 0, 0, 1, 1, 1, 0, 0, 1, 0, 1,\n",
       "       1, 0, 1, 1, 1, 0, 0, 1, 0, 1, 0, 0, 1, 1, 1, 1, 0, 1, 1, 0, 0, 0,\n",
       "       0, 1, 1, 0, 0, 1, 0, 1, 1, 1, 0, 0, 1, 1, 1, 1, 0, 0, 0, 1, 0, 0,\n",
       "       0, 1, 0, 0, 1, 1, 0, 1, 0, 0, 1, 1])"
      ]
     },
     "execution_count": 10,
     "metadata": {},
     "output_type": "execute_result"
    }
   ],
   "source": [
    "Z = np.random.randint(0, 2, 100)\n",
    "np.logical_not(Z, out=Z)"
   ]
  },
  {
   "cell_type": "code",
   "execution_count": 12,
   "metadata": {},
   "outputs": [
    {
     "data": {
      "text/plain": [
       "array([ 0.21777839,  0.37126693,  0.13784339, -0.32770525,  0.11819709,\n",
       "        0.48808794, -0.01875944, -0.65925857, -0.91935906,  0.8204897 ])"
      ]
     },
     "execution_count": 12,
     "metadata": {},
     "output_type": "execute_result"
    }
   ],
   "source": [
    "Z = np.random.uniform(-1.0, 1.0, 10)\n",
    "np.negative(Z, out=Z)"
   ]
  },
  {
   "cell_type": "markdown",
   "metadata": {},
   "source": [
    "#### 78. Consider 2 sets of points P0,P1 describing lines (2d) and a point p, how to compute distance from p to each line i (P0[i],P1[i])? (★★★)"
   ]
  },
  {
   "cell_type": "code",
   "execution_count": 23,
   "metadata": {},
   "outputs": [],
   "source": [
    "def distance(P0, P1, p):\n",
    "    \"两点式计算直线方程\"\n",
    "    A = 1 / (P1[:, 0] - P0[:, 0])\n",
    "    B = 1 / (P0[:, 1] - P1[:, 1])\n",
    "    demo = np.sqrt(A**2 + B**2)\n",
    "    nume = np.abs((p[..., 0] - P0[:, 0]) / (P1[:, 0] - P0[:, 0]) -\n",
    "                  (p[..., 1] - P0[:, 1]) / (P1[:, 1] - P0[:, 1]))\n",
    "    return nume / demo"
   ]
  },
  {
   "cell_type": "code",
   "execution_count": 24,
   "metadata": {},
   "outputs": [
    {
     "name": "stdout",
     "output_type": "stream",
     "text": [
      "[ 1.34016498  2.94699675  1.33216781 13.30918772  1.46169351  8.34145029\n",
      "  8.25495435 10.80120229  9.8403334   0.25548123]\n"
     ]
    }
   ],
   "source": [
    "P0 = np.random.uniform(-10, 10, (10, 2))\n",
    "P1 = np.random.uniform(-10, 10, (10, 2))\n",
    "p = np.random.uniform(-10, 10, (1, 2))\n",
    "print(distance(P0, P1, p))"
   ]
  },
  {
   "cell_type": "code",
   "execution_count": 25,
   "metadata": {},
   "outputs": [
    {
     "name": "stdout",
     "output_type": "stream",
     "text": [
      "[ 1.34016498  2.94699675  1.33216781 13.30918772  1.46169351  8.34145029\n",
      "  8.25495435 10.80120229  9.8403334   0.25548123]\n"
     ]
    }
   ],
   "source": [
    "def distance(P0, P1, p):\n",
    "    T = P1 - P0\n",
    "    L = (T**2).sum(axis=1)\n",
    "    U = -((P0[:, 0] - p[..., 0]) * T[:, 0] +\n",
    "          (P0[:, 1] - p[..., 1]) * T[:, 1]) / L\n",
    "    U = U.reshape(len(U), 1)\n",
    "    D = P0 + U * T - p\n",
    "    return np.sqrt((D**2).sum(axis=1))\n",
    "\n",
    "\n",
    "# P0 = np.random.uniform(-10,10,(10,2))\n",
    "# P1 = np.random.uniform(-10,10,(10,2))\n",
    "# p  = np.random.uniform(-10,10,( 1,2))\n",
    "print(distance(P0, P1, p))"
   ]
  },
  {
   "cell_type": "markdown",
   "metadata": {},
   "source": [
    "#### 79. Consider 2 sets of points P0,P1 describing lines (2d) and a set of points P, how to compute distance from each point j (P[j]) to each line i (P0[i],P1[i])? (★★★)"
   ]
  },
  {
   "cell_type": "code",
   "execution_count": 26,
   "metadata": {},
   "outputs": [
    {
     "name": "stdout",
     "output_type": "stream",
     "text": [
      "[[ 9.97382774  4.09155788  0.67674642  7.64048427  9.48071972  7.20184173\n",
      "   1.21140316  3.8583378   3.99043747  1.64545168]\n",
      " [13.14762037  4.05519109  4.22169328  7.94119073 10.08665032  8.42911276\n",
      "   3.59543973  1.07871678  7.50266679  4.87573071]\n",
      " [ 9.46369504  7.52084242  1.55575668 10.84231371 12.4496922   9.61333598\n",
      "   2.83275603  7.74839803  2.20927464  0.98489695]\n",
      " [10.6401713   8.80059043  7.67883169  4.52874915  1.93268825  2.35885196\n",
      "  15.49040974  9.68444942  9.30677391  2.85561486]\n",
      " [ 1.27627457  0.59028424  7.28900811  3.39774552  4.59486272  1.09457949\n",
      "   1.47110329  7.85388389  4.35486642  7.05822743]\n",
      " [11.20219051  0.09858122  4.07701058  3.79217389  5.97474549  4.494558\n",
      "   6.59991423  1.41773886  6.83388876  3.06809284]\n",
      " [13.17131808  7.68802527  2.48361663 11.39265318 13.34533778 11.20680519\n",
      "   0.27193937  4.71212797  6.23774733  4.74985091]\n",
      " [ 9.94300447  4.35960257  0.51230478  7.89170624  9.71460561  7.39391117\n",
      "   0.90198523  4.15457618  3.86119435  1.60302771]\n",
      " [ 2.43462612  5.69157659  8.36221558  2.95812554  1.77834313  5.15974246\n",
      "   2.50458825  4.74286381  6.21390005 10.5740604 ]\n",
      " [ 9.61399606  9.29894167  6.78040468  5.11026648  2.58550628  3.14438064\n",
      "  15.2650869   9.29878739  8.35245701  1.83223679]]\n"
     ]
    }
   ],
   "source": [
    "P0 = np.random.uniform(-10, 10, (10, 2))\n",
    "P1 = np.random.uniform(-10, 10, (10, 2))\n",
    "p = np.random.uniform(-10, 10, (10, 2))\n",
    "print(np.array([distance(P0, P1, p_i) for p_i in p]))"
   ]
  },
  {
   "cell_type": "markdown",
   "metadata": {},
   "source": [
    "#### 80. Consider an arbitrary array, write a function that extract a subpart with a fixed shape and centered on a given element (pad with a `fill` value when necessary) (★★★)"
   ]
  },
  {
   "cell_type": "code",
   "execution_count": 27,
   "metadata": {},
   "outputs": [
    {
     "name": "stdout",
     "output_type": "stream",
     "text": [
      "[[6 7 2 3 1 5 0 4 6 9]\n",
      " [5 5 1 5 6 0 5 5 5 2]\n",
      " [8 9 0 8 5 6 2 4 3 3]\n",
      " [8 0 6 5 2 9 4 8 9 0]\n",
      " [2 7 2 8 8 2 8 9 4 2]\n",
      " [0 7 4 7 0 9 4 4 9 8]\n",
      " [6 2 1 6 9 4 8 0 0 1]\n",
      " [6 0 4 3 8 2 3 3 5 3]\n",
      " [0 8 2 5 7 1 6 2 0 3]\n",
      " [2 8 9 8 3 4 3 2 6 7]]\n",
      "[[0 0 0 0 0]\n",
      " [0 6 7 2 3]\n",
      " [0 5 5 1 5]\n",
      " [0 8 9 0 8]\n",
      " [0 8 0 6 5]]\n"
     ]
    },
    {
     "name": "stderr",
     "output_type": "stream",
     "text": [
      "d:\\programdata\\python36\\lib\\site-packages\\ipykernel_launcher.py:23: FutureWarning: Using a non-tuple sequence for multidimensional indexing is deprecated; use `arr[tuple(seq)]` instead of `arr[seq]`. In the future this will be interpreted as an array index, `arr[np.array(seq)]`, which will result either in an error or a different result.\n"
     ]
    }
   ],
   "source": [
    "# 这是不是太麻烦了\n",
    "Z = np.random.randint(0, 10, (10, 10))\n",
    "shape = (5, 5)\n",
    "fill = 0\n",
    "position = (1, 1)\n",
    "\n",
    "R = np.ones(shape, dtype=Z.dtype) * fill\n",
    "P = np.array(list(position)).astype(int)\n",
    "Rs = np.array(list(R.shape)).astype(int)\n",
    "Zs = np.array(list(Z.shape)).astype(int)\n",
    "\n",
    "R_start = np.zeros((len(shape),)).astype(int)\n",
    "R_stop = np.array(list(shape)).astype(int)\n",
    "Z_start = P - Rs // 2\n",
    "Z_stop = (P + Rs // 2) + Rs % 2\n",
    "\n",
    "R_start = (R_start - np.minimum(Z_start, 0)).tolist()\n",
    "Z_start = (np.maximum(Z_start, 0)).tolist()\n",
    "R_stop = np.maximum(R_start, (R_stop - np.maximum(Z_stop - Zs, 0))).tolist()\n",
    "Z_stop = (np.minimum(Z_stop, Zs)).tolist()\n",
    "\n",
    "r = [slice(start, stop) for start, stop in zip(R_start, R_stop)]\n",
    "z = [slice(start, stop) for start, stop in zip(Z_start, Z_stop)]\n",
    "R[r] = Z[z]\n",
    "print(Z)\n",
    "print(R)"
   ]
  },
  {
   "cell_type": "markdown",
   "metadata": {},
   "source": [
    "#### 81. Consider an array Z = [1,2,3,4,5,6,7,8,9,10,11,12,13,14], how to generate an array R = [[1,2,3,4], [2,3,4,5], [3,4,5,6], ..., [11,12,13,14]]? (★★★)"
   ]
  },
  {
   "cell_type": "code",
   "execution_count": 28,
   "metadata": {},
   "outputs": [
    {
     "data": {
      "text/plain": [
       "array([[ 1,  2,  3,  4],\n",
       "       [ 2,  3,  4,  5],\n",
       "       [ 3,  4,  5,  6],\n",
       "       [ 4,  5,  6,  7],\n",
       "       [ 5,  6,  7,  8],\n",
       "       [ 6,  7,  8,  9],\n",
       "       [ 7,  8,  9, 10],\n",
       "       [ 8,  9, 10, 11],\n",
       "       [ 9, 10, 11, 12],\n",
       "       [10, 11, 12, 13],\n",
       "       [11, 12, 13, 14]], dtype=uint32)"
      ]
     },
     "execution_count": 28,
     "metadata": {},
     "output_type": "execute_result"
    }
   ],
   "source": [
    "Z = np.arange(1, 15, dtype=np.uint32)\n",
    "R = stride_tricks.as_strided(Z, shape=(11, 4), strides=(4, 4))\n",
    "R"
   ]
  },
  {
   "cell_type": "markdown",
   "metadata": {},
   "source": [
    "#### 82. Compute a matrix rank (★★★)"
   ]
  },
  {
   "cell_type": "code",
   "execution_count": 30,
   "metadata": {},
   "outputs": [
    {
     "name": "stdout",
     "output_type": "stream",
     "text": [
      "10\n"
     ]
    }
   ],
   "source": [
    "Z = np.random.uniform(0, 1, (10, 10))\n",
    "\n",
    "U, S, V = np.linalg.svd(Z)\n",
    "rank = np.sum(S > 1e-10)\n",
    "\n",
    "print(rank)"
   ]
  },
  {
   "cell_type": "markdown",
   "metadata": {},
   "source": [
    "#### 83. How to find the most frequent value in an array?"
   ]
  },
  {
   "cell_type": "code",
   "execution_count": 31,
   "metadata": {},
   "outputs": [
    {
     "data": {
      "text/plain": [
       "0"
      ]
     },
     "execution_count": 31,
     "metadata": {},
     "output_type": "execute_result"
    }
   ],
   "source": [
    "Z = np.random.randint(0, 10, 50)\n",
    "\n",
    "np.bincount(Z).argmax()"
   ]
  },
  {
   "cell_type": "markdown",
   "metadata": {},
   "source": [
    "#### 84. Extract all the contiguous 3x3 blocks from a random 10x10 matrix (★★★)"
   ]
  },
  {
   "cell_type": "code",
   "execution_count": 34,
   "metadata": {},
   "outputs": [
    {
     "data": {
      "text/plain": [
       "(40, 4, 40, 4)"
      ]
     },
     "execution_count": 34,
     "metadata": {},
     "output_type": "execute_result"
    }
   ],
   "source": [
    "# strides: 跨越数组各个维度所需要经过的字节数（bytes）\n",
    "Z.strides + Z.strides"
   ]
  },
  {
   "cell_type": "code",
   "execution_count": 35,
   "metadata": {},
   "outputs": [
    {
     "data": {
      "text/plain": [
       "array([[3, 4, 2, 0, 1, 3, 0, 0, 1, 4],\n",
       "       [3, 0, 1, 2, 4, 0, 4, 1, 4, 2],\n",
       "       [0, 2, 0, 1, 2, 4, 4, 1, 4, 2],\n",
       "       [4, 0, 3, 4, 1, 3, 3, 4, 3, 2],\n",
       "       [3, 0, 2, 4, 4, 1, 4, 0, 0, 0],\n",
       "       [2, 3, 2, 1, 0, 4, 4, 3, 4, 1],\n",
       "       [3, 0, 3, 4, 3, 3, 4, 2, 1, 1],\n",
       "       [1, 4, 3, 4, 4, 2, 1, 4, 1, 0],\n",
       "       [3, 0, 0, 3, 4, 3, 3, 2, 3, 0],\n",
       "       [4, 0, 1, 0, 2, 4, 0, 2, 1, 2]])"
      ]
     },
     "execution_count": 35,
     "metadata": {},
     "output_type": "execute_result"
    }
   ],
   "source": [
    "Z"
   ]
  },
  {
   "cell_type": "code",
   "execution_count": 32,
   "metadata": {},
   "outputs": [
    {
     "name": "stdout",
     "output_type": "stream",
     "text": [
      "[[[[3 4 2]\n",
      "   [3 0 1]\n",
      "   [0 2 0]]\n",
      "\n",
      "  [[4 2 0]\n",
      "   [0 1 2]\n",
      "   [2 0 1]]\n",
      "\n",
      "  [[2 0 1]\n",
      "   [1 2 4]\n",
      "   [0 1 2]]\n",
      "\n",
      "  [[0 1 3]\n",
      "   [2 4 0]\n",
      "   [1 2 4]]\n",
      "\n",
      "  [[1 3 0]\n",
      "   [4 0 4]\n",
      "   [2 4 4]]\n",
      "\n",
      "  [[3 0 0]\n",
      "   [0 4 1]\n",
      "   [4 4 1]]\n",
      "\n",
      "  [[0 0 1]\n",
      "   [4 1 4]\n",
      "   [4 1 4]]\n",
      "\n",
      "  [[0 1 4]\n",
      "   [1 4 2]\n",
      "   [1 4 2]]]\n",
      "\n",
      "\n",
      " [[[3 0 1]\n",
      "   [0 2 0]\n",
      "   [4 0 3]]\n",
      "\n",
      "  [[0 1 2]\n",
      "   [2 0 1]\n",
      "   [0 3 4]]\n",
      "\n",
      "  [[1 2 4]\n",
      "   [0 1 2]\n",
      "   [3 4 1]]\n",
      "\n",
      "  [[2 4 0]\n",
      "   [1 2 4]\n",
      "   [4 1 3]]\n",
      "\n",
      "  [[4 0 4]\n",
      "   [2 4 4]\n",
      "   [1 3 3]]\n",
      "\n",
      "  [[0 4 1]\n",
      "   [4 4 1]\n",
      "   [3 3 4]]\n",
      "\n",
      "  [[4 1 4]\n",
      "   [4 1 4]\n",
      "   [3 4 3]]\n",
      "\n",
      "  [[1 4 2]\n",
      "   [1 4 2]\n",
      "   [4 3 2]]]\n",
      "\n",
      "\n",
      " [[[0 2 0]\n",
      "   [4 0 3]\n",
      "   [3 0 2]]\n",
      "\n",
      "  [[2 0 1]\n",
      "   [0 3 4]\n",
      "   [0 2 4]]\n",
      "\n",
      "  [[0 1 2]\n",
      "   [3 4 1]\n",
      "   [2 4 4]]\n",
      "\n",
      "  [[1 2 4]\n",
      "   [4 1 3]\n",
      "   [4 4 1]]\n",
      "\n",
      "  [[2 4 4]\n",
      "   [1 3 3]\n",
      "   [4 1 4]]\n",
      "\n",
      "  [[4 4 1]\n",
      "   [3 3 4]\n",
      "   [1 4 0]]\n",
      "\n",
      "  [[4 1 4]\n",
      "   [3 4 3]\n",
      "   [4 0 0]]\n",
      "\n",
      "  [[1 4 2]\n",
      "   [4 3 2]\n",
      "   [0 0 0]]]\n",
      "\n",
      "\n",
      " [[[4 0 3]\n",
      "   [3 0 2]\n",
      "   [2 3 2]]\n",
      "\n",
      "  [[0 3 4]\n",
      "   [0 2 4]\n",
      "   [3 2 1]]\n",
      "\n",
      "  [[3 4 1]\n",
      "   [2 4 4]\n",
      "   [2 1 0]]\n",
      "\n",
      "  [[4 1 3]\n",
      "   [4 4 1]\n",
      "   [1 0 4]]\n",
      "\n",
      "  [[1 3 3]\n",
      "   [4 1 4]\n",
      "   [0 4 4]]\n",
      "\n",
      "  [[3 3 4]\n",
      "   [1 4 0]\n",
      "   [4 4 3]]\n",
      "\n",
      "  [[3 4 3]\n",
      "   [4 0 0]\n",
      "   [4 3 4]]\n",
      "\n",
      "  [[4 3 2]\n",
      "   [0 0 0]\n",
      "   [3 4 1]]]\n",
      "\n",
      "\n",
      " [[[3 0 2]\n",
      "   [2 3 2]\n",
      "   [3 0 3]]\n",
      "\n",
      "  [[0 2 4]\n",
      "   [3 2 1]\n",
      "   [0 3 4]]\n",
      "\n",
      "  [[2 4 4]\n",
      "   [2 1 0]\n",
      "   [3 4 3]]\n",
      "\n",
      "  [[4 4 1]\n",
      "   [1 0 4]\n",
      "   [4 3 3]]\n",
      "\n",
      "  [[4 1 4]\n",
      "   [0 4 4]\n",
      "   [3 3 4]]\n",
      "\n",
      "  [[1 4 0]\n",
      "   [4 4 3]\n",
      "   [3 4 2]]\n",
      "\n",
      "  [[4 0 0]\n",
      "   [4 3 4]\n",
      "   [4 2 1]]\n",
      "\n",
      "  [[0 0 0]\n",
      "   [3 4 1]\n",
      "   [2 1 1]]]\n",
      "\n",
      "\n",
      " [[[2 3 2]\n",
      "   [3 0 3]\n",
      "   [1 4 3]]\n",
      "\n",
      "  [[3 2 1]\n",
      "   [0 3 4]\n",
      "   [4 3 4]]\n",
      "\n",
      "  [[2 1 0]\n",
      "   [3 4 3]\n",
      "   [3 4 4]]\n",
      "\n",
      "  [[1 0 4]\n",
      "   [4 3 3]\n",
      "   [4 4 2]]\n",
      "\n",
      "  [[0 4 4]\n",
      "   [3 3 4]\n",
      "   [4 2 1]]\n",
      "\n",
      "  [[4 4 3]\n",
      "   [3 4 2]\n",
      "   [2 1 4]]\n",
      "\n",
      "  [[4 3 4]\n",
      "   [4 2 1]\n",
      "   [1 4 1]]\n",
      "\n",
      "  [[3 4 1]\n",
      "   [2 1 1]\n",
      "   [4 1 0]]]\n",
      "\n",
      "\n",
      " [[[3 0 3]\n",
      "   [1 4 3]\n",
      "   [3 0 0]]\n",
      "\n",
      "  [[0 3 4]\n",
      "   [4 3 4]\n",
      "   [0 0 3]]\n",
      "\n",
      "  [[3 4 3]\n",
      "   [3 4 4]\n",
      "   [0 3 4]]\n",
      "\n",
      "  [[4 3 3]\n",
      "   [4 4 2]\n",
      "   [3 4 3]]\n",
      "\n",
      "  [[3 3 4]\n",
      "   [4 2 1]\n",
      "   [4 3 3]]\n",
      "\n",
      "  [[3 4 2]\n",
      "   [2 1 4]\n",
      "   [3 3 2]]\n",
      "\n",
      "  [[4 2 1]\n",
      "   [1 4 1]\n",
      "   [3 2 3]]\n",
      "\n",
      "  [[2 1 1]\n",
      "   [4 1 0]\n",
      "   [2 3 0]]]\n",
      "\n",
      "\n",
      " [[[1 4 3]\n",
      "   [3 0 0]\n",
      "   [4 0 1]]\n",
      "\n",
      "  [[4 3 4]\n",
      "   [0 0 3]\n",
      "   [0 1 0]]\n",
      "\n",
      "  [[3 4 4]\n",
      "   [0 3 4]\n",
      "   [1 0 2]]\n",
      "\n",
      "  [[4 4 2]\n",
      "   [3 4 3]\n",
      "   [0 2 4]]\n",
      "\n",
      "  [[4 2 1]\n",
      "   [4 3 3]\n",
      "   [2 4 0]]\n",
      "\n",
      "  [[2 1 4]\n",
      "   [3 3 2]\n",
      "   [4 0 2]]\n",
      "\n",
      "  [[1 4 1]\n",
      "   [3 2 3]\n",
      "   [0 2 1]]\n",
      "\n",
      "  [[4 1 0]\n",
      "   [2 3 0]\n",
      "   [2 1 2]]]]\n"
     ]
    }
   ],
   "source": [
    "Z = np.random.randint(0, 5, (10, 10))\n",
    "n = 3\n",
    "i = 1 + (Z.shape[0] - 3)\n",
    "j = 1 + (Z.shape[1] - 3)\n",
    "# strides： 四个维度，每个维度index加一，stride的变化\n",
    "C = stride_tricks.as_strided(Z,\n",
    "                             shape=(i, j, n, n),\n",
    "                             strides=Z.strides + Z.strides)\n",
    "print(C)"
   ]
  },
  {
   "cell_type": "markdown",
   "metadata": {},
   "source": [
    "#### 85. Create a 2D array subclass such that Z[i,j] == Z[j,i] (★★★)"
   ]
  },
  {
   "cell_type": "code",
   "execution_count": 36,
   "metadata": {},
   "outputs": [],
   "source": [
    "class Symetric(np.ndarray):\n",
    "\n",
    "    def __setitem__(self, index, value):\n",
    "        i, j = index\n",
    "        super(Symetric, self).__setitem__((i, j), value)\n",
    "        super(Symetric, self).__setitem__((j, i), value)"
   ]
  },
  {
   "cell_type": "code",
   "execution_count": 39,
   "metadata": {},
   "outputs": [],
   "source": [
    "def symetric(Z):\n",
    "    return np.asarray(Z + Z.T - np.diag(Z.diagonal())).view(Symetric)"
   ]
  },
  {
   "cell_type": "code",
   "execution_count": 40,
   "metadata": {},
   "outputs": [
    {
     "data": {
      "text/plain": [
       "Symetric([[ 5,  6, 13, 13, 12],\n",
       "          [ 6,  7,  6,  6, 13],\n",
       "          [13,  6,  6,  2,  9],\n",
       "          [13,  6,  2,  3, 10],\n",
       "          [12, 13,  9, 10,  4]])"
      ]
     },
     "execution_count": 40,
     "metadata": {},
     "output_type": "execute_result"
    }
   ],
   "source": [
    "S = symetric(np.random.randint(0, 10, (5, 5)))\n",
    "S"
   ]
  },
  {
   "cell_type": "code",
   "execution_count": 41,
   "metadata": {},
   "outputs": [
    {
     "data": {
      "text/plain": [
       "Symetric([[ 5,  6, 13, 13, 12],\n",
       "          [ 6,  7,  6,  6, 13],\n",
       "          [13,  6,  6,  2,  9],\n",
       "          [13,  6,  2,  3,  0],\n",
       "          [12, 13,  9,  0,  4]])"
      ]
     },
     "execution_count": 41,
     "metadata": {},
     "output_type": "execute_result"
    }
   ],
   "source": [
    "S[3, 4] = 0\n",
    "S"
   ]
  },
  {
   "cell_type": "markdown",
   "metadata": {},
   "source": [
    "#### 86. Consider a set of p matrices with shape (n,n) and a set of p vectors with shape (n,1). How to compute the sum of the p matrix products at once? (result has shape (n,1)) (★★★)"
   ]
  },
  {
   "cell_type": "code",
   "execution_count": 42,
   "metadata": {},
   "outputs": [
    {
     "data": {
      "text/plain": [
       "array([[200.],\n",
       "       [200.],\n",
       "       [200.],\n",
       "       [200.],\n",
       "       [200.],\n",
       "       [200.],\n",
       "       [200.],\n",
       "       [200.],\n",
       "       [200.],\n",
       "       [200.],\n",
       "       [200.],\n",
       "       [200.],\n",
       "       [200.],\n",
       "       [200.],\n",
       "       [200.],\n",
       "       [200.],\n",
       "       [200.],\n",
       "       [200.],\n",
       "       [200.],\n",
       "       [200.]])"
      ]
     },
     "execution_count": 42,
     "metadata": {},
     "output_type": "execute_result"
    }
   ],
   "source": [
    "p, n = 10, 20\n",
    "M = np.ones((p, n, n))\n",
    "V = np.ones((p, n, 1))\n",
    "\n",
    "# axes指定 M，V 中的轴进行 sum reduction，输出 shape 为 余下的轴 组成的shape\n",
    "S = np.tensordot(M, V, axes=[(0, 2), (0, 1)])\n",
    "\n",
    "S"
   ]
  },
  {
   "cell_type": "markdown",
   "metadata": {},
   "source": [
    "#### 87. Consider a 16x16 array, how to get the block-sum (block size is 4x4)? (★★★)"
   ]
  },
  {
   "cell_type": "code",
   "execution_count": 43,
   "metadata": {},
   "outputs": [
    {
     "name": "stdout",
     "output_type": "stream",
     "text": [
      "[[16. 16. 16. 16.]\n",
      " [16. 16. 16. 16.]\n",
      " [16. 16. 16. 16.]\n",
      " [16. 16. 16. 16.]]\n"
     ]
    }
   ],
   "source": [
    "Z = np.ones((16, 16))\n",
    "k = 4\n",
    "\n",
    "# 横向 k 步求和，纵向 k 步求和\n",
    "S = np.add.reduceat(\n",
    "    np.add.reduceat(Z, np.arange(0, Z.shape[0], k), axis=0),\n",
    "    np.arange(0, Z.shape[1], k),\n",
    "    axis=1,\n",
    ")\n",
    "print(S)"
   ]
  },
  {
   "cell_type": "markdown",
   "metadata": {},
   "source": [
    "#### 88. How to implement the Game of Life using numpy arrays? (★★★)"
   ]
  },
  {
   "cell_type": "code",
   "execution_count": 45,
   "metadata": {},
   "outputs": [
    {
     "name": "stdout",
     "output_type": "stream",
     "text": [
      "[[0 0 0 0 0 0 0 0 0 0]\n",
      " [0 0 0 0 0 0 0 0 0 0]\n",
      " [0 0 0 0 0 0 0 0 0 0]\n",
      " [0 0 0 0 0 0 0 1 1 0]\n",
      " [0 0 0 0 0 0 0 0 1 0]\n",
      " [0 0 0 0 0 1 0 0 0 0]\n",
      " [0 0 0 0 0 1 1 0 0 0]\n",
      " [0 0 0 0 0 0 0 0 0 0]\n",
      " [0 0 0 0 0 0 0 0 0 0]\n",
      " [0 0 0 0 0 0 0 0 0 0]]\n"
     ]
    }
   ],
   "source": [
    "# 搜索 game of life 问题\n",
    "\n",
    "\n",
    "def iterate(Z):\n",
    "    # Count neighbours\n",
    "    N = (Z[0:-2, 0:-2] + Z[0:-2, 1:-1] + Z[0:-2, 2:] + Z[1:-1, 0:-2] +\n",
    "         Z[1:-1, 2:] + Z[2:, 0:-2] + Z[2:, 1:-1] + Z[2:, 2:])\n",
    "\n",
    "    # Apply rules\n",
    "    birth = (N == 3) & (Z[1:-1, 1:-1] == 0)\n",
    "    survive = ((N == 2) | (N == 3)) & (Z[1:-1, 1:-1] == 1)\n",
    "    Z[...] = 0\n",
    "    Z[1:-1, 1:-1][birth | survive] = 1\n",
    "    return Z\n",
    "\n",
    "\n",
    "Z = np.random.randint(0, 2, (10, 10))\n",
    "for i in range(100):\n",
    "    Z = iterate(Z)\n",
    "print(Z)"
   ]
  },
  {
   "cell_type": "markdown",
   "metadata": {},
   "source": [
    "#### 89. How to get the n largest values of an array (★★★)"
   ]
  },
  {
   "cell_type": "code",
   "execution_count": 46,
   "metadata": {},
   "outputs": [],
   "source": [
    "Z = np.arange(10000)\n",
    "np.random.shuffle(Z)\n",
    "n = 5"
   ]
  },
  {
   "cell_type": "code",
   "execution_count": 47,
   "metadata": {},
   "outputs": [
    {
     "name": "stdout",
     "output_type": "stream",
     "text": [
      "[9995 9996 9997 9998 9999]\n",
      "[9998 9999 9997 9995 9996]\n"
     ]
    }
   ],
   "source": [
    "# Slow\n",
    "print(Z[np.argsort(Z)[-n:]])\n",
    "\n",
    "# Fast\n",
    "print(Z[np.argpartition(-Z, n)[:n]])"
   ]
  },
  {
   "cell_type": "markdown",
   "metadata": {},
   "source": [
    "#### 90. Given an arbitrary number of vectors, build the cartesian product (every combinations of every item) (★★★)"
   ]
  },
  {
   "cell_type": "code",
   "execution_count": 54,
   "metadata": {},
   "outputs": [
    {
     "name": "stdout",
     "output_type": "stream",
     "text": [
      "[[1 4 6]\n",
      " [1 4 7]\n",
      " [1 5 6]\n",
      " [1 5 7]\n",
      " [2 4 6]\n",
      " [2 4 7]\n",
      " [2 5 6]\n",
      " [2 5 7]\n",
      " [3 4 6]\n",
      " [3 4 7]\n",
      " [3 5 6]\n",
      " [3 5 7]]\n"
     ]
    }
   ],
   "source": [
    "def cartesian(arrays):\n",
    "    arrays = [np.asarray(a) for a in arrays]\n",
    "    shape = (len(x) for x in arrays)\n",
    "\n",
    "    # index组合\n",
    "    ix = np.indices(shape, dtype=int)\n",
    "    ix = ix.reshape(len(arrays), -1).T\n",
    "\n",
    "    # 根据index，从各个array中读取相应数值\n",
    "    for n, arr in enumerate(arrays):\n",
    "        ix[:, n] = arrays[n][ix[:, n]]\n",
    "\n",
    "    return ix\n",
    "\n",
    "\n",
    "print(cartesian(([1, 2, 3], [4, 5], [6, 7])))"
   ]
  },
  {
   "cell_type": "markdown",
   "metadata": {},
   "source": [
    "#### 91. How to create a record array from a regular array? (★★★)"
   ]
  },
  {
   "cell_type": "code",
   "execution_count": 55,
   "metadata": {},
   "outputs": [
    {
     "name": "stdout",
     "output_type": "stream",
     "text": [
      "[(b'Hello', 2.5, 3) (b'World', 3.6, 2)]\n"
     ]
    }
   ],
   "source": [
    "Z = np.array([(\"Hello\", 2.5, 3), (\"World\", 3.6, 2)])\n",
    "\n",
    "# string, float, int\n",
    "R = np.core.records.fromarrays(Z.T,\n",
    "                               names=\"col1, col2, col3\",\n",
    "                               formats=\"S8, f8, i8\")\n",
    "\n",
    "print(R)"
   ]
  },
  {
   "cell_type": "markdown",
   "metadata": {},
   "source": [
    "#### 92. Consider a large vector Z, compute Z to the power of 3 using 3 different methods (★★★)"
   ]
  },
  {
   "cell_type": "code",
   "execution_count": 56,
   "metadata": {},
   "outputs": [],
   "source": [
    "x = np.random.rand(int(5e7))"
   ]
  },
  {
   "cell_type": "code",
   "execution_count": 57,
   "metadata": {},
   "outputs": [
    {
     "data": {
      "text/plain": [
       "array([0.19177447, 0.07078996, 0.59925443, ..., 0.07156629, 0.99472137,\n",
       "       0.59774015])"
      ]
     },
     "execution_count": 57,
     "metadata": {},
     "output_type": "execute_result"
    }
   ],
   "source": [
    "x"
   ]
  },
  {
   "cell_type": "code",
   "execution_count": 58,
   "metadata": {},
   "outputs": [
    {
     "name": "stdout",
     "output_type": "stream",
     "text": [
      "1.95 s ± 65.6 ms per loop (mean ± std. dev. of 7 runs, 1 loop each)\n"
     ]
    }
   ],
   "source": [
    "%timeit np.power(x,3)"
   ]
  },
  {
   "cell_type": "code",
   "execution_count": 59,
   "metadata": {},
   "outputs": [
    {
     "name": "stdout",
     "output_type": "stream",
     "text": [
      "1.97 s ± 49.3 ms per loop (mean ± std. dev. of 7 runs, 1 loop each)\n"
     ]
    }
   ],
   "source": [
    "%timeit x**3"
   ]
  },
  {
   "cell_type": "code",
   "execution_count": 60,
   "metadata": {},
   "outputs": [
    {
     "name": "stdout",
     "output_type": "stream",
     "text": [
      "202 ms ± 8.88 ms per loop (mean ± std. dev. of 7 runs, 10 loops each)\n"
     ]
    }
   ],
   "source": [
    "%timeit np.einsum('i,i,i->i',x,x,x)"
   ]
  },
  {
   "cell_type": "markdown",
   "metadata": {},
   "source": [
    "#### 93. Consider two arrays A and B of shape (8,3) and (2,2). How to find rows of A that contain elements of each row of B regardless of the order of the elements in B? (★★★)"
   ]
  },
  {
   "cell_type": "code",
   "execution_count": 61,
   "metadata": {},
   "outputs": [],
   "source": [
    "A = np.random.randint(0, 5, (8, 3))\n",
    "B = np.random.randint(0, 5, (2, 2))\n",
    "\n",
    "# A中的每一个元素与B进行比较\n",
    "C = A[..., np.newaxis, np.newaxis] == B"
   ]
  },
  {
   "cell_type": "code",
   "execution_count": 69,
   "metadata": {},
   "outputs": [],
   "source": [
    "# C"
   ]
  },
  {
   "cell_type": "code",
   "execution_count": 72,
   "metadata": {},
   "outputs": [
    {
     "data": {
      "text/plain": [
       "array([False,  True,  True,  True,  True,  True, False,  True])"
      ]
     },
     "execution_count": 72,
     "metadata": {},
     "output_type": "execute_result"
    }
   ],
   "source": [
    "# 1轴为A中每个单独值，有三行； 3轴为A中每个值与B比较的的结果\n",
    "# 即任意一行A中的元素，是否包含来自B中所有不同行的值\n",
    "C.any((3, 1)).all(1)"
   ]
  },
  {
   "cell_type": "code",
   "execution_count": 73,
   "metadata": {},
   "outputs": [
    {
     "name": "stdout",
     "output_type": "stream",
     "text": [
      "[1 2 3 4 5 7]\n"
     ]
    }
   ],
   "source": [
    "rows = np.where(C.any((3, 1)).all(1))[0]\n",
    "print(rows)"
   ]
  },
  {
   "cell_type": "markdown",
   "metadata": {},
   "source": [
    "#### 94. Considering a 10x3 matrix, extract rows with unequal values (e.g. [2,2,3]) (★★★)"
   ]
  },
  {
   "cell_type": "code",
   "execution_count": 75,
   "metadata": {},
   "outputs": [],
   "source": [
    "Z = np.random.randint(0, 5, (10, 3))"
   ]
  },
  {
   "cell_type": "code",
   "execution_count": 76,
   "metadata": {},
   "outputs": [
    {
     "data": {
      "text/plain": [
       "array([[4, 3, 3],\n",
       "       [1, 4, 2],\n",
       "       [1, 4, 0],\n",
       "       [3, 4, 1],\n",
       "       [2, 2, 0],\n",
       "       [3, 0, 1],\n",
       "       [1, 4, 2],\n",
       "       [0, 1, 2],\n",
       "       [2, 1, 3]])"
      ]
     },
     "execution_count": 76,
     "metadata": {},
     "output_type": "execute_result"
    }
   ],
   "source": [
    "Z[~np.all(Z[:, 1:] == Z[:, :-1], axis=1)]  # 依次比较"
   ]
  },
  {
   "cell_type": "code",
   "execution_count": 77,
   "metadata": {},
   "outputs": [
    {
     "data": {
      "text/plain": [
       "array([[4, 3, 3],\n",
       "       [1, 4, 2],\n",
       "       [1, 4, 0],\n",
       "       [3, 4, 1],\n",
       "       [2, 2, 0],\n",
       "       [3, 0, 1],\n",
       "       [1, 4, 2],\n",
       "       [0, 1, 2],\n",
       "       [2, 1, 3]])"
      ]
     },
     "execution_count": 77,
     "metadata": {},
     "output_type": "execute_result"
    }
   ],
   "source": [
    "Z[Z.max(axis=1) != Z.min(axis=1), :]"
   ]
  },
  {
   "cell_type": "markdown",
   "metadata": {},
   "source": [
    "#### 95. Convert a vector of ints into a matrix binary representation (★★★)"
   ]
  },
  {
   "cell_type": "code",
   "execution_count": 78,
   "metadata": {},
   "outputs": [
    {
     "name": "stdout",
     "output_type": "stream",
     "text": [
      "[[0 0 0 0 0 0 0 0]\n",
      " [0 0 0 0 0 0 0 1]\n",
      " [0 0 0 0 0 0 1 0]\n",
      " [0 0 0 0 0 0 1 1]\n",
      " [0 0 0 0 1 1 1 1]\n",
      " [0 0 0 1 0 0 0 0]\n",
      " [0 0 1 0 0 0 0 0]\n",
      " [0 1 0 0 0 0 0 0]\n",
      " [1 0 0 0 0 0 0 0]]\n"
     ]
    }
   ],
   "source": [
    "I = np.array([0, 1, 2, 3, 15, 16, 32, 64, 128])\n",
    "B = ((I.reshape(-1, 1) & (2**np.arange(8))) != 0).astype(int)\n",
    "print(B[:, ::-1])"
   ]
  },
  {
   "cell_type": "code",
   "execution_count": 79,
   "metadata": {},
   "outputs": [
    {
     "data": {
      "text/plain": [
       "array([[0, 0, 0, 0, 0, 0, 0, 0],\n",
       "       [0, 0, 0, 0, 0, 0, 0, 1],\n",
       "       [0, 0, 0, 0, 0, 0, 1, 0],\n",
       "       [0, 0, 0, 0, 0, 0, 1, 1],\n",
       "       [0, 0, 0, 0, 1, 1, 1, 1],\n",
       "       [0, 0, 0, 1, 0, 0, 0, 0],\n",
       "       [0, 0, 1, 0, 0, 0, 0, 0],\n",
       "       [0, 1, 0, 0, 0, 0, 0, 0],\n",
       "       [1, 0, 0, 0, 0, 0, 0, 0]], dtype=uint8)"
      ]
     },
     "execution_count": 79,
     "metadata": {},
     "output_type": "execute_result"
    }
   ],
   "source": [
    "I = np.array([0, 1, 2, 3, 15, 16, 32, 64, 128], dtype=np.uint8)\n",
    "np.unpackbits(I[:, np.newaxis], axis=1)"
   ]
  },
  {
   "cell_type": "markdown",
   "metadata": {},
   "source": [
    "#### 96. Given a two dimensional array, how to extract unique rows? (★★★)"
   ]
  },
  {
   "cell_type": "code",
   "execution_count": 82,
   "metadata": {},
   "outputs": [
    {
     "name": "stdout",
     "output_type": "stream",
     "text": [
      "[[0 1 0]\n",
      " [1 1 0]\n",
      " [0 0 0]\n",
      " [0 0 0]\n",
      " [0 1 1]\n",
      " [1 1 1]]\n",
      "[[0 0 0]\n",
      " [0 1 0]\n",
      " [0 1 1]\n",
      " [1 1 0]\n",
      " [1 1 1]]\n"
     ]
    }
   ],
   "source": [
    "Z = np.random.randint(0, 2, (6, 3))\n",
    "print(Z)\n",
    "uZ = np.unique(Z, axis=0)\n",
    "print(uZ)"
   ]
  },
  {
   "cell_type": "markdown",
   "metadata": {},
   "source": [
    "#### 97. Considering 2 vectors A & B, write the einsum equivalent of inner, outer, sum, and mul function (★★★)"
   ]
  },
  {
   "cell_type": "code",
   "execution_count": 83,
   "metadata": {},
   "outputs": [],
   "source": [
    "A = np.random.uniform(0, 1, 10)\n",
    "B = np.random.uniform(0, 1, 10)"
   ]
  },
  {
   "cell_type": "code",
   "execution_count": 84,
   "metadata": {},
   "outputs": [
    {
     "data": {
      "text/plain": [
       "4.571081724334019"
      ]
     },
     "execution_count": 84,
     "metadata": {},
     "output_type": "execute_result"
    }
   ],
   "source": [
    "np.einsum(\"i->\", A)  # np.sum(A)"
   ]
  },
  {
   "cell_type": "code",
   "execution_count": 85,
   "metadata": {},
   "outputs": [
    {
     "data": {
      "text/plain": [
       "array([0.07360314, 0.42124468, 0.00260285, 0.14278601, 0.12411123,\n",
       "       0.10699638, 0.26059924, 0.00500204, 0.4743901 , 0.19404716])"
      ]
     },
     "execution_count": 85,
     "metadata": {},
     "output_type": "execute_result"
    }
   ],
   "source": [
    "np.einsum(\"i,i->i\", A, B)  # A * B"
   ]
  },
  {
   "cell_type": "code",
   "execution_count": 86,
   "metadata": {},
   "outputs": [
    {
     "data": {
      "text/plain": [
       "1.8053828321198488"
      ]
     },
     "execution_count": 86,
     "metadata": {},
     "output_type": "execute_result"
    }
   ],
   "source": [
    "np.einsum(\"i,i\", A, B)  # np.inner(A, B)"
   ]
  },
  {
   "cell_type": "code",
   "execution_count": 87,
   "metadata": {},
   "outputs": [
    {
     "data": {
      "text/plain": [
       "array([[0.07360314, 0.14008114, 0.08274066, 0.05396978, 0.1540963 ,\n",
       "        0.06818168, 0.19288853, 0.10491152, 0.21192297, 0.09670005],\n",
       "       [0.2213355 , 0.42124468, 0.24881338, 0.16229511, 0.46339032,\n",
       "        0.20503237, 0.58004428, 0.31548444, 0.63728364, 0.29079133],\n",
       "       [0.0023154 , 0.00440666, 0.00260285, 0.00169778, 0.00484755,\n",
       "        0.00214485, 0.00606788, 0.0033003 , 0.00666666, 0.00304198],\n",
       "       [0.1947293 , 0.37060789, 0.21890414, 0.14278601, 0.40768731,\n",
       "        0.18038594, 0.51031858, 0.27756083, 0.56067734, 0.25583602],\n",
       "       [0.05928095, 0.11282323, 0.06664044, 0.04346799, 0.12411123,\n",
       "        0.05491444, 0.15535501, 0.08449715, 0.1706856 , 0.07788352],\n",
       "       [0.11550418, 0.21982701, 0.12984354, 0.08469389, 0.24182076,\n",
       "        0.10699638, 0.30269676, 0.16463591, 0.33256719, 0.15174978],\n",
       "       [0.09944045, 0.18925459, 0.11178557, 0.07291509, 0.20818956,\n",
       "        0.09211587, 0.26059924, 0.14173919, 0.28631544, 0.1306452 ],\n",
       "       [0.0035093 , 0.00667888, 0.00394497, 0.00257321, 0.00734711,\n",
       "        0.00325081, 0.00919667, 0.00500204, 0.01010421, 0.00461053],\n",
       "       [0.16476081, 0.313572  , 0.18521518, 0.1208115 , 0.34494496,\n",
       "        0.15262486, 0.43178147, 0.23484471, 0.4743901 , 0.21646331],\n",
       "       [0.14769878, 0.28109963, 0.16603497, 0.1083007 , 0.30922372,\n",
       "        0.13681959, 0.38706775, 0.21052505, 0.425264  , 0.19404716]])"
      ]
     },
     "execution_count": 87,
     "metadata": {},
     "output_type": "execute_result"
    }
   ],
   "source": [
    "np.einsum(\"i,j->ij\", A, B)  # np.outer(A, B)"
   ]
  },
  {
   "cell_type": "markdown",
   "metadata": {},
   "source": [
    "#### 98. Considering a path described by two vectors (X,Y), how to sample it using equidistant samples (★★★)?"
   ]
  },
  {
   "cell_type": "code",
   "execution_count": 90,
   "metadata": {},
   "outputs": [
    {
     "name": "stdout",
     "output_type": "stream",
     "text": [
      "[  0.           0.43879128   0.54030231   0.1061058   -0.83229367\n",
      "  -2.00285904  -2.96997749  -3.27759841  -2.61457448  -0.9485811\n",
      "   1.41831093   3.89768376   5.76102172   6.34781957   5.27731578\n",
      "   2.59976488  -1.16400027  -5.11710117  -8.20017236  -9.47313548\n",
      "  -8.39071529  -4.99313774   0.04868268   5.55800473  10.1262475\n",
      "  12.47247849  11.79680816   8.03142895   1.91432105  -5.14640187\n",
      " -11.39531869 -15.16602867 -15.32255169 -11.58955145  -4.67777675\n",
      "   3.84019936  11.88570075  17.38121053  18.78538775  15.51839191\n",
      "   8.16164124  -1.63105313 -11.50231446 -18.95852214 -21.99913818\n",
      " -19.6493544  -12.25515947  -1.45477441  10.18029618  19.7570326\n",
      "  24.7800703   23.79953536  16.81990238   5.35658069  -7.88774784\n",
      " -19.65939164 -26.95296426 -27.77739036 -21.69366836  -9.98041672\n",
      "   4.6275435   18.57620727  28.35701309]\n",
      "[  0.           0.23971277   0.84147098   1.49624248   1.81859485\n",
      "   1.49618036   0.42336002  -1.2277413   -3.02720998  -4.39888553\n",
      "  -4.79462137  -3.88047179  -1.67649299   1.39827992   4.59890619\n",
      "   7.03499983   7.91486597   6.78714046   3.70906637  -0.71393564\n",
      "  -5.44021111  -9.23680548 -10.99989227 -10.06770001  -6.43887502\n",
      "  -0.82902372   5.46217148  10.85108976  13.86850298  13.55597831\n",
      "   9.7543176    3.20024597  -4.60645307 -11.74445815 -16.34375736\n",
      " -17.0734551  -13.51777044  -6.33589144   2.84766698  11.80802746\n",
      "  18.25890501  20.43501078  17.56976841  10.14023857  -0.1947288\n",
      " -10.96142653 -19.4630693  -23.45492766 -21.73388069 -14.48825948\n",
      "  -3.30879375   9.15598803  19.82651971  25.95297754  25.82215007\n",
      "  19.22910087   7.58536207  -6.37703575 -19.24538264 -27.76042655\n",
      " -29.64094872 -24.1903808  -12.52516701]\n"
     ]
    }
   ],
   "source": [
    "phi = np.arange(0, 10 * np.pi, 0.5)\n",
    "a = 1\n",
    "x = a * phi * np.cos(phi)\n",
    "y = a * phi * np.sin(phi)\n",
    "\n",
    "print(x)\n",
    "print(y)"
   ]
  },
  {
   "cell_type": "code",
   "execution_count": 91,
   "metadata": {},
   "outputs": [],
   "source": [
    "# 相邻两点距离\n",
    "dr = (np.diff(x)**2 + np.diff(y)**2)**0.5"
   ]
  },
  {
   "cell_type": "code",
   "execution_count": 93,
   "metadata": {},
   "outputs": [
    {
     "data": {
      "text/plain": [
       "array([  0.        ,   0.5       ,   1.11026014,   1.89591421,\n",
       "         2.88813627,   4.1022921 ,   5.54668179,   7.22619547,\n",
       "         9.14392545,  11.30194023,  13.70168703,  16.34421595,\n",
       "        19.23031209,  22.36057728,  25.73548274,  29.35540415,\n",
       "        33.22064574,  37.33145729,  41.68804632,  46.29058714,\n",
       "        51.13922748,  56.23409372,  61.57529473,  67.16292499,\n",
       "        72.99706699,  79.07779321,  85.40516766,  91.97924712,\n",
       "        98.80008223, 105.86771832, 113.18219613, 120.7435524 ,\n",
       "       128.55182041, 136.60703036, 144.90920976, 153.45838374,\n",
       "       162.2545753 , 171.29780557, 180.588094  , 190.1254585 ,\n",
       "       199.90991565, 209.94148079, 220.22016817, 230.74599102,\n",
       "       241.51896166, 252.53909159, 263.80639156, 275.3208716 ,\n",
       "       287.08254113, 299.09140899, 311.34748347, 323.85077238,\n",
       "       336.60128307, 349.59902248, 362.84399715, 376.33621326,\n",
       "       390.07567666, 404.0623929 , 418.29636723, 432.77760463,\n",
       "       447.50610983, 462.48188733, 477.70494141])"
      ]
     },
     "execution_count": 93,
     "metadata": {},
     "output_type": "execute_result"
    }
   ],
   "source": [
    "r = np.zeros_like(x)\n",
    "r[1:] = np.cumsum(dr)  # 累计长度和\n",
    "r"
   ]
  },
  {
   "cell_type": "code",
   "execution_count": 96,
   "metadata": {},
   "outputs": [],
   "source": [
    "r_int = np.linspace(0, r.max(), 200)  # 均分\n",
    "\n",
    "x_int = np.interp(r_int, r, x)  # 根据 r, x 插值计算r_int处的值\n",
    "y_int = np.interp(r_int, r, y)"
   ]
  },
  {
   "cell_type": "markdown",
   "metadata": {},
   "source": [
    "#### 99. Given an integer n and a 2D array X, select from X the rows which can be interpreted as draws from a multinomial distribution with n degrees, i.e., the rows which only contain integers and which sum to n. (★★★)"
   ]
  },
  {
   "cell_type": "code",
   "execution_count": 102,
   "metadata": {},
   "outputs": [
    {
     "data": {
      "text/plain": [
       "array([[2., 0., 1., 1.]])"
      ]
     },
     "execution_count": 102,
     "metadata": {},
     "output_type": "execute_result"
    }
   ],
   "source": [
    "X = np.asarray([[1.0, 0.0, 3.0, 8.0], [2.0, 0.0, 1.0, 1.0], [1.5, 2.5, 1.0, 0.0]])\n",
    "n = 4  # 和为4的行\n",
    "\n",
    "M = np.logical_and.reduce(np.mod(X, 1) == 0, axis=-1)\n",
    "X[M & (X.sum(axis=-1) == n)]"
   ]
  },
  {
   "cell_type": "markdown",
   "metadata": {},
   "source": [
    "#### 100. Compute bootstrapped 95% confidence intervals for the mean of a 1D array X (i.e., resample the elements of an array with replacement N times, compute the mean of each sample, and then compute percentiles over the means). (★★★)"
   ]
  },
  {
   "cell_type": "code",
   "execution_count": 103,
   "metadata": {},
   "outputs": [
    {
     "name": "stdout",
     "output_type": "stream",
     "text": [
      "[-0.27451145  0.08839754]\n"
     ]
    }
   ],
   "source": [
    "X = np.random.randn(100)\n",
    "\n",
    "# sample indexes\n",
    "N = 1000\n",
    "idx = np.random.randint(0, X.size, (N, X.size))\n",
    "\n",
    "means = X[idx].mean(axis=1)\n",
    "\n",
    "confindence = np.percentile(means, [2.5, 97.5])\n",
    "\n",
    "print(confindence)"
   ]
  }
 ],
 "metadata": {
  "kernelspec": {
   "display_name": "Python 3",
   "language": "python",
   "name": "python3"
  },
  "language_info": {
   "codemirror_mode": {
    "name": "ipython",
    "version": 3
   },
   "file_extension": ".py",
   "mimetype": "text/x-python",
   "name": "python",
   "nbconvert_exporter": "python",
   "pygments_lexer": "ipython3",
   "version": "3.6.8"
  }
 },
 "nbformat": 4,
 "nbformat_minor": 4
}
