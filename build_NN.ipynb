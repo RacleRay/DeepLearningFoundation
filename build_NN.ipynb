{
 "cells": [
  {
   "cell_type": "markdown",
   "metadata": {},
   "source": [
    "### Build a neural network from sractch"
   ]
  },
  {
   "cell_type": "markdown",
   "metadata": {},
   "source": [
    "Using topologic sort to build a graph\n",
    "\n",
    "Node:\n",
    "\n",
    "- forward: Function, how to calculate the inputs\n",
    "- backwards: Function, how to get the gradients when backpropogation\n",
    "- gradients: Mapper, the gradient map the this node of its inputs node\n",
    "- inputs: List, the input nodes of this node\n",
    "- outputs: List, the output node of this node"
   ]
  },
  {
   "cell_type": "markdown",
   "metadata": {},
   "source": [
    "想象以下代码是一张多种节点构成的图"
   ]
  },
  {
   "cell_type": "markdown",
   "metadata": {},
   "source": [
    "#### 基类"
   ]
  },
  {
   "cell_type": "code",
   "execution_count": null,
   "metadata": {
    "ExecuteTime": {
     "end_time": "2019-09-21T12:43:53.139876Z",
     "start_time": "2019-09-21T12:43:53.119958Z"
    }
   },
   "outputs": [],
   "source": [
    "import numpy as np\n",
    "\n",
    "\n",
    "class Node:\n",
    "    \"\"\"\n",
    "    Each node in neural networks will have these attributes and methods\n",
    "\n",
    "    If the node is the operator of \"ax + b\", the inputs will be x node , and the outputs\n",
    "    of this is its successors and the value is 'ax + b'\n",
    "\n",
    "    args:\n",
    "        inputs -- list of inputs\n",
    "    \"\"\"\n",
    "    def __init__(self, inputs=[]):\n",
    "        self.inputs = inputs\n",
    "        self.outputs = []\n",
    "        self.value = None\n",
    "        self.gradients = {}\n",
    "\n",
    "        # build a connection relationship\n",
    "        # 将该节点作为输入节点的输出，存储于inputs节点的outputs之中\n",
    "        for node in self.inputs:\n",
    "            node.outputs.append(self)\n",
    "\n",
    "    def forward(self):\n",
    "        \"\"\"Forward propagation\n",
    "\n",
    "        compute the output value based on input nodes and store the value\n",
    "        into *self.value*\n",
    "        \"\"\"\n",
    "        raise NotImplementedError\n",
    "\n",
    "    def backward(self):\n",
    "        \"\"\" Back propagation\n",
    "\n",
    "        compute the gradient of each input node and store the value\n",
    "        into \"self.gradients\"\n",
    "        \"\"\"\n",
    "        raise NotImplementedError"
   ]
  },
  {
   "cell_type": "markdown",
   "metadata": {},
   "source": [
    "#### Layers"
   ]
  },
  {
   "cell_type": "code",
   "execution_count": 2,
   "metadata": {
    "ExecuteTime": {
     "end_time": "2019-09-21T12:43:53.139876Z",
     "start_time": "2019-09-21T12:43:53.119958Z"
    }
   },
   "outputs": [],
   "source": [
    "class Input(Node):\n",
    "    def __init__(self, name=''):\n",
    "        Node.__init__(self, inputs=[])\n",
    "        self.name = name\n",
    "\n",
    "    def forward(self, value=None):\n",
    "        if value is not None:\n",
    "            self.value = value\n",
    "\n",
    "    def backward(self):\n",
    "        self.gradients = {}\n",
    "\n",
    "        # input的grad，就是反向传播过来的梯度\n",
    "        for n in self.outputs:\n",
    "            grad_cost = n.gradients[self]\n",
    "            self.gradients[self] = grad_cost\n",
    "\n",
    "    def __repr__(self):\n",
    "        return 'Input Node: {}'.format(self.name)\n",
    "\n",
    "\n",
    "class Linear(Node):\n",
    "    def __init__(self, nodes, weights, biases):\n",
    "        Node.__init__(self, inputs=[nodes, weights, biases])\n",
    "        self.w_node = weights\n",
    "        self.x_node = nodes\n",
    "        self.b_node = biases\n",
    "\n",
    "    def forward(self):\n",
    "        \"\"\"compute the wx + b using numpy\"\"\"\n",
    "        self.value = np.dot(self.x_node.value, self.w_node.value) + self.b_node.value\n",
    "\n",
    "    def backward(self):\n",
    "        for node in self.outputs:\n",
    "            # 反向传播而来的梯度\n",
    "            grad_cost = node.gradients[self]\n",
    "\n",
    "            # w * x + b求导过程\n",
    "            self.gradients[self.w_node] = np.dot(self.x_node.value.T, grad_cost)\n",
    "            self.gradients[self.x_node] = np.dot(grad_cost, self.w_node.value.T)\n",
    "            self.gradients[self.b_node] = np.sum(grad_cost, axis=0, keepdims=False)\n",
    "\n",
    "\n",
    "class Sigmoid(Node):\n",
    "    def __init__(self, node):\n",
    "        Node.__init__(self, [node])\n",
    "        self.x_node = node\n",
    "\n",
    "    def __sigmoid(self, x):\n",
    "        return 1. / (1. + np.exp(-x))\n",
    "\n",
    "    def forward(self):\n",
    "        self.value = self.__sigmoid(self.x_node.value)\n",
    "\n",
    "    def backward(self):\n",
    "        y = self.value\n",
    "\n",
    "        self.partial_ = y * (1 - y)\n",
    "\n",
    "        for n in self.outputs:\n",
    "            grad_cost = n.gradients[self]\n",
    "            self.gradients[self.x_node] = grad_cost * self.partial_\n",
    "\n",
    "\n",
    "class MSE(Node):\n",
    "    def __init__(self, y_true, y_hat):\n",
    "        self.y_true_node = y_true\n",
    "        self.y_hat_node = y_hat\n",
    "        Node.__init__(self, inputs=[y_true, y_hat])\n",
    "\n",
    "    def forward(self):\n",
    "        y_true_flatten = self.y_true_node.value.reshape(-1, 1)\n",
    "        y_hat_flatten = self.y_hat_node.value.reshape(-1, 1)\n",
    "\n",
    "        self.diff = y_true_flatten - y_hat_flatten\n",
    "        self.value = np.mean(self.diff**2)\n",
    "\n",
    "    def backward(self):\n",
    "        n = self.y_hat_node.value.shape[0]\n",
    "\n",
    "        self.gradients[self.y_true_node] = (2 / n) * self.diff\n",
    "        self.gradients[self.y_hat_node] = (-2 / n) * self.diff"
   ]
  },
  {
   "cell_type": "markdown",
   "metadata": {},
   "source": [
    "#### topological_sort"
   ]
  },
  {
   "cell_type": "code",
   "execution_count": null,
   "metadata": {
    "ExecuteTime": {
     "end_time": "2019-09-21T12:44:46.641589Z",
     "start_time": "2019-09-21T12:44:46.630592Z"
    }
   },
   "outputs": [],
   "source": [
    "def topological_sort(data_with_value):\n",
    "    \"\"\"\n",
    "    完成节点拓扑排序\n",
    "    \n",
    "    arg:\n",
    "        data_with_value -- dict, {Node: value}\n",
    "    \"\"\"\n",
    "    feed_dict = data_with_value\n",
    "    input_nodes = [n for n in feed_dict.keys()]\n",
    "\n",
    "    # 转换成图结构\n",
    "    G = {}\n",
    "    nodes = [n for n in input_nodes]\n",
    "    while len(nodes) > 0:\n",
    "        n = nodes.pop(0)\n",
    "        if n not in G:\n",
    "            G[n] = {'in': set(), 'out': set()}\n",
    "        for m in n.outputs:\n",
    "            if m not in G:\n",
    "                G[m] = {'in': set(), 'out': set()}\n",
    "            G[n]['out'].add(m)\n",
    "            G[m]['in'].add(n)\n",
    "            nodes.append(m)  # 加入作为output的节点\n",
    "    \n",
    "    # 拓扑排序：\n",
    "    # 优先选择只有出度，没有入度的节点，输出。然后迭代，直到删除所有节点。\n",
    "    L = []\n",
    "    S = set(input_nodes)\n",
    "    while len(S) > 0:\n",
    "        n = S.pop()\n",
    "\n",
    "        if isinstance(n, Input):\n",
    "            n.value = feed_dict[n]  # 赋值\n",
    "            \n",
    "        L.append(n)\n",
    "        for m in n.outputs:\n",
    "            G[n]['out'].remove(m)\n",
    "            G[m]['in'].remove(n)\n",
    "            # if no other incoming edges add to S\n",
    "            # 没有入度的节点\n",
    "            if len(G[m]['in']) == 0:  \n",
    "                S.add(m)\n",
    "    \n",
    "    return L"
   ]
  },
  {
   "cell_type": "code",
   "execution_count": 10,
   "metadata": {
    "ExecuteTime": {
     "end_time": "2019-09-21T12:44:46.641589Z",
     "start_time": "2019-09-21T12:44:46.630592Z"
    }
   },
   "outputs": [],
   "source": [
    "def training_one_batch(topological_sorted_graph):\n",
    "    # graph 是经过拓扑排序之后的 一个list\n",
    "    for node in topological_sorted_graph:\n",
    "        node.forward()\n",
    "\n",
    "    for node in topological_sorted_graph[::-1]:\n",
    "        node.backward()\n",
    "\n",
    "\n",
    "def sgd_update(trainable_nodes, learning_rate=1e-2):\n",
    "    for t in trainable_nodes:\n",
    "        t.value += -1 * learning_rate * t.gradients[t]"
   ]
  },
  {
   "cell_type": "markdown",
   "metadata": {},
   "source": [
    "### Build a graph connection"
   ]
  },
  {
   "cell_type": "markdown",
   "metadata": {},
   "source": [
    "#### 数据定义"
   ]
  },
  {
   "cell_type": "code",
   "execution_count": 11,
   "metadata": {
    "ExecuteTime": {
     "end_time": "2019-09-21T12:44:47.830985Z",
     "start_time": "2019-09-21T12:44:47.819002Z"
    }
   },
   "outputs": [],
   "source": [
    "from sklearn.datasets import load_boston\n",
    "from sklearn.utils import resample\n",
    "\n",
    "\n",
    "data = load_boston()\n",
    "X_ = data['data']\n",
    "y_ = data['target']\n",
    "\n",
    "n_features = X_.shape[1]\n",
    "n_hidden = 8\n",
    "\n",
    "X_ = (X_ - np.mean(X_, axis=0)) / np.std(X_, axis=0)\n",
    "W1_, b1_ = np.random.randn(n_features, n_hidden),  np.zeros(n_hidden)\n",
    "W2_, b2_ = np.random.randn(n_hidden, 1),  np.zeros(1)"
   ]
  },
  {
   "cell_type": "markdown",
   "metadata": {},
   "source": [
    "#### 图定义"
   ]
  },
  {
   "cell_type": "code",
   "execution_count": 12,
   "metadata": {
    "ExecuteTime": {
     "end_time": "2019-09-21T12:44:48.807601Z",
     "start_time": "2019-09-21T12:44:48.800620Z"
    }
   },
   "outputs": [],
   "source": [
    "# tensorflow -> placeholder\n",
    "X, y = Input(name='X'), Input(name='y')  \n",
    "W1, b1 = Input(name='W1'), Input(name='b1')\n",
    "W2, b2 = Input(name='W2'), Input(name='b2')\n",
    "\n",
    "# graph\n",
    "linear_output = Linear(X, W1, b1)\n",
    "sigmoid_output = Sigmoid(linear_output)\n",
    "yhat = Linear(sigmoid_output, W2, b2)\n",
    "loss = MSE(y, yhat)\n",
    "\n",
    "# -> feed_dict \n",
    "input_node_with_value = {  \n",
    "    X: X_, \n",
    "    y: y_, \n",
    "    W1: W1_, \n",
    "    W2: W2_, \n",
    "    b1: b1_, \n",
    "    b2: b2_\n",
    "}"
   ]
  },
  {
   "cell_type": "markdown",
   "metadata": {},
   "source": [
    "#### 拓扑排序"
   ]
  },
  {
   "cell_type": "code",
   "execution_count": 13,
   "metadata": {
    "ExecuteTime": {
     "end_time": "2019-09-21T12:44:49.912987Z",
     "start_time": "2019-09-21T12:44:49.908997Z"
    }
   },
   "outputs": [],
   "source": [
    "graph = topological_sort(input_node_with_value)"
   ]
  },
  {
   "cell_type": "code",
   "execution_count": 14,
   "metadata": {
    "ExecuteTime": {
     "end_time": "2019-09-21T12:44:51.074266Z",
     "start_time": "2019-09-21T12:44:51.069306Z"
    }
   },
   "outputs": [
    {
     "data": {
      "text/plain": [
       "[Input Node: W1,\n",
       " Input Node: W2,\n",
       " Input Node: b1,\n",
       " Input Node: X,\n",
       " Input Node: b2,\n",
       " Input Node: y,\n",
       " <__main__.Linear at 0x1fdaf36bf98>,\n",
       " <__main__.Sigmoid at 0x1fdaf36bfd0>,\n",
       " <__main__.Linear at 0x1fdaf36b390>,\n",
       " <__main__.MSE at 0x1fdaf36b320>]"
      ]
     },
     "execution_count": 14,
     "metadata": {},
     "output_type": "execute_result"
    }
   ],
   "source": [
    "graph"
   ]
  },
  {
   "cell_type": "markdown",
   "metadata": {},
   "source": [
    "#### 训练"
   ]
  },
  {
   "cell_type": "code",
   "execution_count": 16,
   "metadata": {
    "ExecuteTime": {
     "end_time": "2019-09-21T12:45:10.324898Z",
     "start_time": "2019-09-21T12:45:04.751581Z"
    },
    "scrolled": false
   },
   "outputs": [
    {
     "name": "stdout",
     "output_type": "stream",
     "text": [
      "Epoch: 1, loss = 10.981\n",
      "Epoch: 101, loss = 8.869\n",
      "Epoch: 201, loss = 9.967\n",
      "Epoch: 301, loss = 8.739\n",
      "Epoch: 401, loss = 8.090\n",
      "Epoch: 501, loss = 9.049\n",
      "Epoch: 601, loss = 9.584\n",
      "Epoch: 701, loss = 6.929\n",
      "Epoch: 801, loss = 9.684\n",
      "Epoch: 901, loss = 8.192\n",
      "Epoch: 1001, loss = 7.726\n",
      "Epoch: 1101, loss = 7.694\n",
      "Epoch: 1201, loss = 7.368\n",
      "Epoch: 1301, loss = 6.641\n",
      "Epoch: 1401, loss = 7.753\n",
      "Epoch: 1501, loss = 7.207\n",
      "Epoch: 1601, loss = 8.490\n",
      "Epoch: 1701, loss = 6.709\n",
      "Epoch: 1801, loss = 7.301\n",
      "Epoch: 1901, loss = 7.402\n",
      "Epoch: 2001, loss = 8.051\n",
      "Epoch: 2101, loss = 7.237\n",
      "Epoch: 2201, loss = 9.763\n",
      "Epoch: 2301, loss = 6.893\n",
      "Epoch: 2401, loss = 7.334\n",
      "Epoch: 2501, loss = 7.974\n",
      "Epoch: 2601, loss = 7.454\n",
      "Epoch: 2701, loss = 6.608\n",
      "Epoch: 2801, loss = 7.082\n",
      "Epoch: 2901, loss = 6.801\n",
      "Epoch: 3001, loss = 8.426\n",
      "Epoch: 3101, loss = 7.575\n",
      "Epoch: 3201, loss = 7.281\n",
      "Epoch: 3301, loss = 7.903\n",
      "Epoch: 3401, loss = 7.794\n",
      "Epoch: 3501, loss = 6.736\n",
      "Epoch: 3601, loss = 8.075\n",
      "Epoch: 3701, loss = 7.769\n",
      "Epoch: 3801, loss = 8.127\n",
      "Epoch: 3901, loss = 6.075\n",
      "Epoch: 4001, loss = 7.300\n",
      "Epoch: 4101, loss = 6.488\n",
      "Epoch: 4201, loss = 6.515\n",
      "Epoch: 4301, loss = 5.513\n",
      "Epoch: 4401, loss = 5.514\n",
      "Epoch: 4501, loss = 5.586\n",
      "Epoch: 4601, loss = 6.744\n",
      "Epoch: 4701, loss = 6.459\n",
      "Epoch: 4801, loss = 6.253\n",
      "Epoch: 4901, loss = 5.310\n"
     ]
    }
   ],
   "source": [
    "losses = []\n",
    "\n",
    "epochs = 5000\n",
    "batch_size = 64\n",
    "learning_rate = 1e-3\n",
    "steps_per_epoch = X_.shape[0] // batch_size\n",
    "\n",
    "for i in range(epochs):\n",
    "    loss = 0\n",
    "    for batch in range(steps_per_epoch):\n",
    "        X_batch, y_batch = resample(X_, y_, n_samples=batch_size)\n",
    "        # OR：\n",
    "        # indices = np.random.choice(range(X_.shape[0]), size=10, replace=True)\n",
    "        # X_batch = X_[indices]\n",
    "        # y_batch = y_[indices]\n",
    "\n",
    "        X.value = X_batch\n",
    "        y.value = y_batch\n",
    "\n",
    "        # 计算\n",
    "        training_one_batch(graph)\n",
    "\n",
    "        # 梯度更新\n",
    "        sgd_update(trainable_nodes=[W1, W2, b1, b2], \n",
    "                            learning_rate=learning_rate)\n",
    "\n",
    "        # epochs累计损失\n",
    "        loss += graph[-1].value\n",
    "\n",
    "    if i % 100 == 0:\n",
    "        print('Epoch: {}, loss = {:.3f}'.format(i + 1, loss / steps_per_epoch))\n",
    "        losses.append(loss)"
   ]
  },
  {
   "cell_type": "markdown",
   "metadata": {},
   "source": [
    "#### 计算结果"
   ]
  },
  {
   "cell_type": "code",
   "execution_count": 18,
   "metadata": {
    "ExecuteTime": {
     "end_time": "2019-09-21T12:46:00.175251Z",
     "start_time": "2019-09-21T12:45:59.916953Z"
    }
   },
   "outputs": [
    {
     "data": {
      "text/plain": [
       "[<matplotlib.lines.Line2D at 0x1fdb1d3eb38>]"
      ]
     },
     "execution_count": 18,
     "metadata": {},
     "output_type": "execute_result"
    },
    {
     "data": {
      "image/png": "[encoded data removed]",
      "text/plain": [
       "<Figure size 432x288 with 1 Axes>"
      ]
     },
     "metadata": {
      "needs_background": "light"
     },
     "output_type": "display_data"
    }
   ],
   "source": [
    "import matplotlib.pyplot as plt\n",
    "%matplotlib inline\n",
    "\n",
    "plt.plot(losses)"
   ]
  },
  {
   "cell_type": "code",
   "execution_count": 19,
   "metadata": {
    "ExecuteTime": {
     "end_time": "2019-09-21T12:46:12.367421Z",
     "start_time": "2019-09-21T12:46:12.360440Z"
    }
   },
   "outputs": [
    {
     "data": {
      "text/plain": [
       "array([[ 3.0926186 , -0.07604312, -1.98835284, -0.97110068, -1.32252042,\n",
       "         2.03012469, -1.27587868, -2.16412252],\n",
       "       [ 0.77752253,  2.17184347, -1.74193853,  0.70647464,  0.3728057 ,\n",
       "        -0.26194398, -0.02695906, -0.03343409],\n",
       "       [-0.49621915, -1.60418739, -1.32513349, -0.04217987,  0.36801543,\n",
       "        -1.52228178,  1.11763276,  0.48446395],\n",
       "       [-0.89699402,  0.03813009,  3.51917738, -0.03374336, -0.43467176,\n",
       "        -0.39528446,  4.31583393, -0.57193225],\n",
       "       [-0.90053915, -1.53241941,  0.59139153,  0.66686143, -0.45114387,\n",
       "        -1.13929926,  1.553666  , -1.66256924],\n",
       "       [-0.95828289, -1.7821414 ,  0.33548128,  1.48909133,  2.4916066 ,\n",
       "        -0.3718774 ,  2.13304152,  0.79067001],\n",
       "       [ 2.01318161, -0.41838242,  0.12445617, -1.20158416,  1.21013153,\n",
       "         1.6925617 , -1.20689601, -1.63865728],\n",
       "       [-2.60167707, -2.80506983,  0.79453497, -1.76714362,  0.75736495,\n",
       "        -1.65171231,  0.73222702, -1.06978074],\n",
       "       [ 0.79438534, -1.90886453,  1.13400737,  1.73555878,  1.81129155,\n",
       "         3.19600751, -2.07492377,  1.97994605],\n",
       "       [ 0.04549658, -0.09673114, -2.28033564,  1.31358084,  1.70651609,\n",
       "        -2.71165486, -2.34757288,  0.78926527],\n",
       "       [-1.41544629, -0.53840108,  2.86340418, -0.16296403,  0.90937792,\n",
       "        -1.82080949, -0.86675699, -0.15486346],\n",
       "       [ 1.41868794,  0.54277215, -0.32556844,  0.29399983,  1.52217653,\n",
       "        -0.48752701,  0.22280872, -0.63416064],\n",
       "       [ 0.29839996, -3.17271144,  2.76058261, -4.38176235, -1.21296721,\n",
       "        -3.28516319,  2.52772651, -1.92098807]])"
      ]
     },
     "execution_count": 19,
     "metadata": {},
     "output_type": "execute_result"
    }
   ],
   "source": [
    "W1.value"
   ]
  },
  {
   "cell_type": "code",
   "execution_count": 20,
   "metadata": {
    "ExecuteTime": {
     "end_time": "2019-09-21T12:46:17.966049Z",
     "start_time": "2019-09-21T12:46:17.961062Z"
    }
   },
   "outputs": [
    {
     "data": {
      "text/plain": [
       "array([[ 3.56118916],\n",
       "       [ 9.39212543],\n",
       "       [ 2.74110486],\n",
       "       [11.04051283],\n",
       "       [ 4.40831235],\n",
       "       [ 6.52162748],\n",
       "       [ 7.33160428],\n",
       "       [ 7.3121919 ]])"
      ]
     },
     "execution_count": 20,
     "metadata": {},
     "output_type": "execute_result"
    }
   ],
   "source": [
    "W2.value"
   ]
  },
  {
   "cell_type": "code",
   "execution_count": 21,
   "metadata": {
    "ExecuteTime": {
     "end_time": "2019-09-21T12:46:25.056695Z",
     "start_time": "2019-09-21T12:46:25.050710Z"
    }
   },
   "outputs": [
    {
     "data": {
      "text/plain": [
       "array([-0.41733926, -0.48772236, -0.59338101, -0.27259857, -0.74026221,\n",
       "        0.19427445,  0.36716642,  0.55715988, -0.8678825 , -0.98732948,\n",
       "       -0.30309415,  0.44105193, -0.49243937])"
      ]
     },
     "execution_count": 21,
     "metadata": {},
     "output_type": "execute_result"
    }
   ],
   "source": [
    "X_[1]"
   ]
  },
  {
   "cell_type": "code",
   "execution_count": null,
   "metadata": {},
   "outputs": [],
   "source": []
  }
 ],
 "metadata": {
  "kernelspec": {
   "display_name": "Python 3",
   "language": "python",
   "name": "python3"
  },
  "language_info": {
   "codemirror_mode": {
    "name": "ipython",
    "version": 3
   },
   "file_extension": ".py",
   "mimetype": "text/x-python",
   "name": "python",
   "nbconvert_exporter": "python",
   "pygments_lexer": "ipython3",
   "version": "3.6.8"
  },
  "toc": {
   "base_numbering": 1,
   "nav_menu": {},
   "number_sections": true,
   "sideBar": true,
   "skip_h1_title": false,
   "title_cell": "Table of Contents",
   "title_sidebar": "Contents",
   "toc_cell": false,
   "toc_position": {},
   "toc_section_display": true,
   "toc_window_display": false
  },
  "varInspector": {
   "cols": {
    "lenName": 16,
    "lenType": 16,
    "lenVar": 40
   },
   "kernels_config": {
    "python": {
     "delete_cmd_postfix": "",
     "delete_cmd_prefix": "del ",
     "library": "var_list.py",
     "varRefreshCmd": "print(var_dic_list())"
    },
    "r": {
     "delete_cmd_postfix": ") ",
     "delete_cmd_prefix": "rm(",
     "library": "var_list.r",
     "varRefreshCmd": "cat(var_dic_list()) "
    }
   },
   "oldHeight": 460,
   "position": {
    "height": "482px",
    "left": "601px",
    "right": "20px",
    "top": "137px",
    "width": "346px"
   },
   "types_to_exclude": [
    "module",
    "function",
    "builtin_function_or_method",
    "instance",
    "_Feature"
   ],
   "varInspector_section_display": "block",
   "window_display": false
  }
 },
 "nbformat": 4,
 "nbformat_minor": 2
}
